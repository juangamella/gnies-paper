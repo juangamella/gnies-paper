{
 "cells": [
  {
   "cell_type": "code",
   "execution_count": 18,
   "metadata": {},
   "outputs": [],
   "source": [
    "import numpy as np\n",
    "import sempler\n",
    "import sempler.generators\n",
    "import src.utils as utils\n",
    "import src.metrics as metrics\n",
    "\n",
    "import matplotlib\n",
    "import matplotlib.pyplot as plt\n",
    "from matplotlib.lines import Line2D\n",
    "from matplotlib import gridspec\n",
    "\n",
    "import pickle\n",
    "import os\n",
    "\n",
    "\n",
    "import time"
   ]
  },
  {
   "cell_type": "code",
   "execution_count": 19,
   "metadata": {},
   "outputs": [
    {
     "data": {
      "text/plain": [
       "<matplotlib.collections.PathCollection at 0x7fe9804c4d90>"
      ]
     },
     "execution_count": 19,
     "metadata": {},
     "output_type": "execute_result"
    },
    {
     "data": {
      "image/png": "[encoded data removed]",
      "text/plain": [
       "<Figure size 432x288 with 1 Axes>"
      ]
     },
     "metadata": {
      "needs_background": "light"
     },
     "output_type": "display_data"
    }
   ],
   "source": [
    "# Set tex formatting for plots\n",
    "from matplotlib import rc\n",
    "rc('font',**{'family':'serif','sans-serif':['Computer Modern Roman']})\n",
    "rc('text', usetex=True)\n",
    "#plt.rcParams[\"font.family\"] = \"serif\"\n",
    "#plt.rcParams[\"font.serif\"] = [\"Computer Modern Roman\"]\n",
    "\n",
    "# Set legend size\n",
    "from matplotlib.font_manager import FontProperties\n",
    "fontP = FontProperties()\n",
    "fontP.set_size('medium')\n",
    "\n",
    "# Colors\n",
    "def to_rgb(H, b=1, a=1):\n",
    "    RGBa = []\n",
    "    for h in H:\n",
    "        h = h.lstrip(\"#\")\n",
    "        RGBa.append(tuple(int(h[i:i+2], 16) / 256 * b for i in (0, 2, 4)) + (a,))\n",
    "    return np.array(RGBa)\n",
    "\n",
    "cmap = matplotlib.cm.get_cmap('tab20')\n",
    "# Colorblind safe palettes\n",
    "base = ['#d73027', '#f46d43', '#fdae61', '#fee090', '#020202', '#abd9e9', '#74add1', '#4575b4']\n",
    "#base = ['#b2182b', '#d6604d', '#f4a582', '#fddbc7', '#d1e5f0', '#92c5de', '#4393c3', '#2166ac']\n",
    "#base = ['#8c510a', '#bf812d', '#dfc27d', '#f6e8c3', '#c7eae5', '#80cdc1', '#35978f', '#01665e']\n",
    "# Rainbow palette\n",
    "base = [\"#ff4365\", \"#ffdd43\", \"#59ff43\", \"#43ffdd\", \"#7395ff\", \"#4365ff\", \"#e943ff\", \"#601e9e\", \"#6a6a6a\", \"#964b00\"]#np.array([cmap(i) for i in range(2,20)])\n",
    "plt.scatter(np.arange(len(base)), np.ones(len(base)), c = base)\n",
    "#base = [base[i] for i in [0,1,3]]\n",
    "colors = to_rgb(base)\n",
    "colorsa = to_rgb(base, a=0.5)\n",
    "colorsb = to_rgb(base, b=0.7)\n",
    "plt.scatter(np.arange(len(colors)), np.zeros(len(colors)), c = colors)\n",
    "plt.scatter(np.arange(len(colors)), np.ones(len(colors))*0.5, c = colorsa)\n",
    "plt.scatter(np.arange(len(colors)), np.ones(len(colors))*-0.5, c = colorsb)"
   ]
  },
  {
   "cell_type": "markdown",
   "metadata": {},
   "source": [
    "## Load results"
   ]
  },
  {
   "cell_type": "code",
   "execution_count": 23,
   "metadata": {},
   "outputs": [],
   "source": [
    "directory = \"synthetic_experiments/dataset_1657817021_runs:10_seed:42_G:100_k:2.7_p:10_w_min:0.5_w_max:1_v_min:1_v_max:2_envs:4_i_type:noise_i_size:1_i_v_min:5_i_v_max:10_n:10,100,1000_obs:1/\""
   ]
  },
  {
   "cell_type": "code",
   "execution_count": 24,
   "metadata": {},
   "outputs": [],
   "source": [
    "test_cases = utils.read_pickle(directory + 'test_cases.pickle')\n",
    "Ns = sorted(test_cases['Ns'])"
   ]
  },
  {
   "cell_type": "markdown",
   "metadata": {},
   "source": [
    "**Varsortability**"
   ]
  },
  {
   "cell_type": "code",
   "execution_count": 25,
   "metadata": {},
   "outputs": [
    {
     "data": {
      "text/plain": [
       "(100, 4, 3, 10)"
      ]
     },
     "execution_count": 25,
     "metadata": {},
     "output_type": "execute_result"
    }
   ],
   "source": [
    "V = test_cases['varsortability']\n",
    "V.shape"
   ]
  },
  {
   "cell_type": "code",
   "execution_count": 26,
   "metadata": {},
   "outputs": [
    {
     "data": {
      "text/plain": [
       "array([[0.9247346 , 0.96894821, 0.97354423],\n",
       "       [0.90784785, 0.94307505, 0.94725201],\n",
       "       [0.9087767 , 0.93613526, 0.93762238],\n",
       "       [0.89338022, 0.91775806, 0.91866401]])"
      ]
     },
     "execution_count": 26,
     "metadata": {},
     "output_type": "execute_result"
    }
   ],
   "source": [
    "V.mean(axis=(0,3))"
   ]
  },
  {
   "cell_type": "markdown",
   "metadata": {},
   "source": [
    "**sortnregress**"
   ]
  },
  {
   "cell_type": "code",
   "execution_count": 69,
   "metadata": {},
   "outputs": [],
   "source": [
    "sort_args, sort_results = utils.read_pickle(directory + \"compiled_results_sortnregress.pickle\")\n",
    "ground_truth, sort_metrics = utils.read_pickle(directory + \"metrics_sortnregress.pickle\")"
   ]
  },
  {
   "cell_type": "code",
   "execution_count": 64,
   "metadata": {},
   "outputs": [
    {
     "data": {
      "text/plain": [
       "array([0., 1., 1.])"
      ]
     },
     "execution_count": 64,
     "metadata": {},
     "output_type": "execute_result"
    }
   ],
   "source": [
    "sort_metrics[metrics.success_metric].mean(axis=(0,2))"
   ]
  },
  {
   "cell_type": "markdown",
   "metadata": {},
   "source": [
    "**GnIES**"
   ]
  },
  {
   "cell_type": "code",
   "execution_count": 65,
   "metadata": {},
   "outputs": [
    {
     "data": {
      "text/plain": [
       "[0.01, 0.25, 0.5, 0.75, 1.0]"
      ]
     },
     "execution_count": 65,
     "metadata": {},
     "output_type": "execute_result"
    }
   ],
   "source": [
    "gnies_args, gnies_results = utils.read_pickle(directory + \"compiled_results_gnies.pickle\")\n",
    "ground_truth, gnies_metrics = utils.read_pickle(directory + \"metrics_gnies.pickle\")\n",
    "gnies_lambdas = gnies_args[2]\n",
    "gnies_lambdas"
   ]
  },
  {
   "cell_type": "code",
   "execution_count": 66,
   "metadata": {},
   "outputs": [
    {
     "data": {
      "text/plain": [
       "1.0"
      ]
     },
     "execution_count": 66,
     "metadata": {},
     "output_type": "execute_result"
    }
   ],
   "source": [
    "gnies_metrics[metrics.success_metric].mean()"
   ]
  },
  {
   "cell_type": "markdown",
   "metadata": {},
   "source": [
    "**UT-IGSP**"
   ]
  },
  {
   "cell_type": "code",
   "execution_count": 33,
   "metadata": {},
   "outputs": [
    {
     "data": {
      "text/plain": [
       "(array([1.00000e-05, 2.50075e-02, 5.00050e-02, 7.50025e-02, 1.00000e-01]),\n",
       " array([1.00000e-05, 2.50075e-02, 5.00050e-02, 7.50025e-02, 1.00000e-01]))"
      ]
     },
     "execution_count": 33,
     "metadata": {},
     "output_type": "execute_result"
    }
   ],
   "source": [
    "ut_igsp_args, ut_igsp_results = utils.read_pickle(directory + \"compiled_results_ut_igsp.pickle\")\n",
    "ground_truth, utigsp_metrics = utils.read_pickle(directory + \"metrics_ut_igsp.pickle\")\n",
    "utigsp_alphas, utigsp_betas = ut_igsp_args[1], ut_igsp_args[2]\n",
    "utigsp_alphas, utigsp_betas"
   ]
  },
  {
   "cell_type": "code",
   "execution_count": 34,
   "metadata": {},
   "outputs": [
    {
     "data": {
      "text/plain": [
       "array([0.91328, 1.     , 1.     ])"
      ]
     },
     "execution_count": 34,
     "metadata": {},
     "output_type": "execute_result"
    }
   ],
   "source": [
    "utigsp_metrics[metrics.success_metric].mean(axis=(0,1,2,4))"
   ]
  },
  {
   "cell_type": "markdown",
   "metadata": {},
   "source": [
    "**UT-IGSP+**"
   ]
  },
  {
   "cell_type": "code",
   "execution_count": 35,
   "metadata": {},
   "outputs": [
    {
     "data": {
      "text/plain": [
       "(array([1.00000e-05, 2.50075e-02, 5.00050e-02, 7.50025e-02, 1.00000e-01]),\n",
       " array([1.00000e-05, 2.50075e-02, 5.00050e-02, 7.50025e-02, 1.00000e-01]))"
      ]
     },
     "execution_count": 35,
     "metadata": {},
     "output_type": "execute_result"
    }
   ],
   "source": [
    "ut_igsp_plus_args, ut_igsp_plus_results = utils.read_pickle(directory + \"compiled_results_ut_igsp_plus.pickle\")\n",
    "ground_truth, utigsp_plus_metrics = utils.read_pickle(directory + \"metrics_ut_igsp_plus.pickle\")\n",
    "utigsp_plus_alphas, utigsp_plus_betas = ut_igsp_args[1], ut_igsp_args[2]\n",
    "utigsp_plus_alphas, utigsp_plus_betas"
   ]
  },
  {
   "cell_type": "code",
   "execution_count": 36,
   "metadata": {},
   "outputs": [
    {
     "data": {
      "text/plain": [
       "0.9710933333333334"
      ]
     },
     "execution_count": 36,
     "metadata": {},
     "output_type": "execute_result"
    }
   ],
   "source": [
    "utigsp_plus_metrics[metrics.success_metric].mean()"
   ]
  },
  {
   "cell_type": "markdown",
   "metadata": {},
   "source": [
    "**GES**"
   ]
  },
  {
   "cell_type": "code",
   "execution_count": 37,
   "metadata": {},
   "outputs": [
    {
     "data": {
      "text/plain": [
       "[0.01, 0.25, 0.5, 0.75, 1.0]"
      ]
     },
     "execution_count": 37,
     "metadata": {},
     "output_type": "execute_result"
    }
   ],
   "source": [
    "ges_args, ges_results = utils.read_pickle(directory + \"compiled_results_ges.pickle\")\n",
    "ground_truth, ges_metrics = utils.read_pickle(directory + \"metrics_ges.pickle\")\n",
    "ges_lambdas = ges_args[2]\n",
    "ges_lambdas"
   ]
  },
  {
   "cell_type": "code",
   "execution_count": 38,
   "metadata": {},
   "outputs": [
    {
     "data": {
      "text/plain": [
       "1.0"
      ]
     },
     "execution_count": 38,
     "metadata": {},
     "output_type": "execute_result"
    }
   ],
   "source": [
    "ges_metrics[metrics.success_metric].mean()"
   ]
  },
  {
   "cell_type": "markdown",
   "metadata": {},
   "source": [
    "**GnIES with rank**"
   ]
  },
  {
   "cell_type": "markdown",
   "metadata": {},
   "source": [
    "gnies_rank_args, gnies_rank_results = utils.read_pickle(directory + \"compiled_results_gnies_rank.pickle\")\n",
    "ground_truth, gnies_rank_metrics = utils.read_pickle(directory + \"metrics_gnies_rank.pickle\")\n",
    "gnies_rank_lambdas = gnies_rank_args[2]\n",
    "gnies_rank_lambdas"
   ]
  },
  {
   "cell_type": "markdown",
   "metadata": {},
   "source": [
    "gnies_rank_metrics[metrics.success_metric].mean()"
   ]
  },
  {
   "cell_type": "markdown",
   "metadata": {},
   "source": [
    "## Figures"
   ]
  },
  {
   "cell_type": "markdown",
   "metadata": {},
   "source": [
    "### Figure 1: Class recovery trajectories"
   ]
  },
  {
   "cell_type": "code",
   "execution_count": 67,
   "metadata": {},
   "outputs": [
    {
     "name": "stderr",
     "output_type": "stream",
     "text": [
      "/home/juan/anaconda3/lib/python3.7/site-packages/ipykernel_launcher.py:15: RuntimeWarning: Mean of empty slice\n",
      "  from ipykernel import kernelapp as app\n",
      "/home/juan/anaconda3/lib/python3.7/site-packages/ipykernel_launcher.py:16: RuntimeWarning: Mean of empty slice\n",
      "  app.launch_new_instance()\n"
     ]
    }
   ],
   "source": [
    "gnies_x = np.nanmean(gnies_metrics[metrics.type_1_structc], axis=(0,3))\n",
    "gnies_y = np.nanmean(gnies_metrics[metrics.type_2_structc], axis=(0,3))\n",
    "\n",
    "idx = list(range(len(utigsp_alphas)))\n",
    "utigsp_x = np.nanmean(utigsp_metrics[metrics.type_1_structc], axis=(0,4))[idx,idx]\n",
    "utigsp_y = np.nanmean(utigsp_metrics[metrics.type_2_structc], axis=(0,4))[idx,idx]\n",
    "\n",
    "idx = list(range(len(utigsp_plus_alphas)))\n",
    "utigsp_plus_x = np.nanmean(utigsp_plus_metrics[metrics.type_1_structc], axis=(0,4))[idx,idx]\n",
    "utigsp_plus_y = np.nanmean(utigsp_plus_metrics[metrics.type_2_structc], axis=(0,4))[idx,idx]\n",
    "\n",
    "ges_x = np.nanmean(ges_metrics[metrics.type_1_structc], axis=(0,3))\n",
    "ges_y = np.nanmean(ges_metrics[metrics.type_2_structc], axis=(0,3))\n",
    "\n",
    "sort_x = np.nanmean(sort_metrics[metrics.type_1_structc], axis=(0,2))\n",
    "sort_y = np.nanmean(sort_metrics[metrics.type_2_structc], axis=(0,2))"
   ]
  },
  {
   "cell_type": "code",
   "execution_count": 51,
   "metadata": {},
   "outputs": [
    {
     "data": {
      "text/plain": [
       "array([       nan, 0.29712503, 0.27017792])"
      ]
     },
     "execution_count": 51,
     "metadata": {},
     "output_type": "execute_result"
    }
   ],
   "source": [
    "sort_x"
   ]
  },
  {
   "cell_type": "code",
   "execution_count": 52,
   "metadata": {},
   "outputs": [
    {
     "data": {
      "text/plain": [
       "array([       nan, 0.11317441, 0.10707834])"
      ]
     },
     "execution_count": 52,
     "metadata": {},
     "output_type": "execute_result"
    }
   ],
   "source": [
    "sort_y"
   ]
  },
  {
   "cell_type": "markdown",
   "metadata": {},
   "source": [
    "gnies_rank_x = np.nanmean(gnies_rank_metrics[metrics.type_1_structc], axis=(0,3))\n",
    "gnies_rank_y = np.nanmean(gnies_rank_metrics[metrics.type_2_structc], axis=(0,3))"
   ]
  },
  {
   "cell_type": "code",
   "execution_count": 70,
   "metadata": {},
   "outputs": [
    {
     "data": {
      "image/png": "[encoded data removed]",
      "text/plain": [
       "<Figure size 648x216 with 3 Axes>"
      ]
     },
     "metadata": {
      "needs_background": "light"
     },
     "output_type": "display_data"
    }
   ],
   "source": [
    "text = True\n",
    "textsize = 5\n",
    "lineopts = {'linewidth': 1}\n",
    "ticks = [0, 0.2, 0.4, 0.6, 0.8, 1]\n",
    "marker = {'gnies': '.',\n",
    "          'gnies_rank': '.',\n",
    "          'ges': '*',\n",
    "          'ut_igsp': '^',\n",
    "          'ut_igsp+': '^',\n",
    "          'sort': 's',           \n",
    "}\n",
    "style = {'gnies': '-',\n",
    "         'gnies_rank': ':',\n",
    "         'ges': ':',\n",
    "         'ut_igsp': ':',\n",
    "         'ut_igsp+': '--',\n",
    "         'sort': ':',\n",
    "           \n",
    "}\n",
    "color = {'gnies': colors[0],\n",
    "         'gnies_rank': colorsa[0],\n",
    "         'ges': colors[1],\n",
    "         'ut_igsp': colors[4],\n",
    "         'ut_igsp+': colors[5],\n",
    "         'sort': colors[2],\n",
    "         \n",
    "}\n",
    "\n",
    "print_names = {'gnies': 'GnIES',\n",
    "               #'gnies_rank': 'GnIES-rank',\n",
    "               'ges': 'GES',\n",
    "               'ut_igsp': 'UT-IGSP',\n",
    "               'ut_igsp+': 'UT-IGSP+',\n",
    "               'sort': 'sortnrgress',         \n",
    "}\n",
    "\n",
    "def plot_metric(ax, values_x, values_y, lambdas, method, points, text):\n",
    "    values_y = 1 - values_y\n",
    "    ax.plot(values_x, values_y, color=color[method], linestyle=style[method], **lineopts)\n",
    "    for j, l in enumerate(lambdas):\n",
    "        #ax.scatter(values_x[j], values_y[j], color=color[method], marker=\".\", linewidth=0)\n",
    "        if j==0 and text[0] is not None:\n",
    "            ax.text(values_x[j], values_y[j], \"$%0.2f$\" % l, fontsize=textsize)\n",
    "        if l==lambdas[-1] and text[1] is not None:\n",
    "            ax.text(values_x[j], values_y[j], \"$%0.2f$\" % l, fontsize=textsize)\n",
    "        if j in points:\n",
    "            ax.scatter(values_x[j], values_y[j], color=color[method], marker=marker[method], linewidth=0)\n",
    "\n",
    "def set_ax(ax, yticks=True):\n",
    "    ax.set_xlim([0,1])\n",
    "    ax.set_ylim([0,1])\n",
    "    ax.set_xlabel('FDP')    \n",
    "    ax.set_ylabel('TDP') if yticks else None\n",
    "    ax.set_yticks(ticks)\n",
    "    ax.set_xticks(ticks)\n",
    "    ax.set_xticklabels(ticks)\n",
    "    ax.set_yticklabels(ticks) if yticks else ax.set_yticklabels([])\n",
    "\n",
    "\n",
    "gs = gridspec.GridSpec(1, 3, wspace=0.10, hspace=0.2)\n",
    "plt.figure(figsize=(9,3))\n",
    "ax = plt.gca()\n",
    "\n",
    "for i,n in enumerate(Ns):\n",
    "    plt.subplot(gs[i])\n",
    "    ax = plt.gca()\n",
    "    \n",
    "    # Plot GnIES\n",
    "    plot_metric(ax, gnies_x[:,i], gnies_y[:,i], gnies_lambdas, 'gnies', [0,2,len(gnies_lambdas)-1], [\"%d\",\"%0.2f\"])\n",
    "        \n",
    "    # Plot UT-IGSP\n",
    "    plot_metric(ax, utigsp_x[:,i], utigsp_y[:,i], utigsp_alphas, 'ut_igsp', [0,len(utigsp_alphas)-1], [\"%d\",\"%0.2f\"])    \n",
    "\n",
    "    # Plot UT-IGSP+\n",
    "    plot_metric(ax, utigsp_plus_x[:,i], utigsp_plus_y[:,i], utigsp_plus_alphas, 'ut_igsp+', [0,len(utigsp_plus_alphas)-1], [\"%d\",\"%0.2f\"])\n",
    "\n",
    "    # Plot GES\n",
    "    plot_metric(ax, ges_x[:,i], ges_y[:,i], ges_lambdas, 'ges', [0,2,len(ges_lambdas)-1], [\"%d\",\"%0.2f\"])\n",
    "    \n",
    "    # Plot sortnregress \n",
    "    ax.scatter(sort_x[i], 1-sort_y[i], color=color['sort'], linestyle=style['sort'], marker=marker['sort'], **lineopts)     \n",
    "    \n",
    "    set_ax(ax, yticks=i==0)\n",
    "    ax.set_title(\"%d obs./environment\" % n)\n",
    "\n",
    "\n",
    "# Build legend\n",
    "method_entries = [Line2D([0], [0],\n",
    "                         linewidth=1,\n",
    "                         linestyle=style[method],\n",
    "                         marker=marker[method],\n",
    "                         color=color[method]) for method in print_names.keys()]\n",
    "method_str = list(print_names.values())\n",
    "ax.legend(method_entries, #+ sample_size_entries\n",
    "          method_str, # + sample_size_str\n",
    "          prop={'size':8},\n",
    "          loc='lower right',\n",
    "        ncol=1)\n",
    "\n",
    "\n",
    "plt.savefig('figures/figure_match.pdf', bbox_inches='tight')"
   ]
  },
  {
   "cell_type": "code",
   "execution_count": null,
   "metadata": {
    "scrolled": false
   },
   "outputs": [],
   "source": []
  },
  {
   "cell_type": "markdown",
   "metadata": {},
   "source": [
    "### Recovery of I-CPDAG"
   ]
  },
  {
   "cell_type": "code",
   "execution_count": null,
   "metadata": {},
   "outputs": [],
   "source": [
    "gnies_y = np.nanmean(computed_metrics['gnies'][metrics.recovered_icpdag], axis=(0,3))\n",
    "utigsp_y = np.nanmean(computed_metrics['ut_igsp'][metrics.recovered_icpdag], axis=(0,4))"
   ]
  },
  {
   "cell_type": "code",
   "execution_count": null,
   "metadata": {},
   "outputs": [],
   "source": [
    "plt.figure(figsize=(4,4))\n",
    "ax = plt.gca()\n",
    "\n",
    "x_axis = range(len(Ns))\n",
    "# Plot GnIES\n",
    "for i,l in enumerate(gnies_lambdas):    \n",
    "    ax.plot(x_axis, gnies_y[i,:], label=\"l=%0.2f\" % l, marker='o', linestyle=':')\n",
    "\n",
    "        \n",
    "# Plot UT-IGSP\n",
    "for j,a in enumerate(utigsp_alphas):\n",
    "    for k,b in enumerate(utigsp_betas):\n",
    "        if j==k:\n",
    "            ax.plot(x_axis, utigsp_y[j,k,:])            \n",
    "\n",
    "ax.set_ylim([0,1])\n",
    "ax.set_xticks(x_axis)\n",
    "ax.set_xticklabels(Ns)\n",
    "plt.legend()"
   ]
  },
  {
   "cell_type": "code",
   "execution_count": null,
   "metadata": {
    "scrolled": false
   },
   "outputs": [],
   "source": [
    "# Above: ranking, below: greedy approach "
   ]
  },
  {
   "cell_type": "markdown",
   "metadata": {},
   "source": [
    "### Skeleton recovery"
   ]
  },
  {
   "cell_type": "code",
   "execution_count": null,
   "metadata": {},
   "outputs": [],
   "source": [
    "gnies_x = np.nanmean(computed_metrics['gnies'][metrics.type_1_skeleton], axis=(0,3))\n",
    "gnies_y = 1 - np.nanmean(computed_metrics['gnies'][metrics.type_2_skeleton], axis=(0,3))\n",
    "\n",
    "utigsp_x = np.nanmean(computed_metrics['ut_igsp'][metrics.type_1_skeleton], axis=(0,4))\n",
    "utigsp_y = 1 - np.nanmean(computed_metrics['ut_igsp'][metrics.type_2_skeleton], axis=(0,4))"
   ]
  },
  {
   "cell_type": "code",
   "execution_count": null,
   "metadata": {},
   "outputs": [],
   "source": [
    "styles = [':', '--', '-']\n",
    "text = True\n",
    "\n",
    "plt.figure(figsize=(10,10))\n",
    "ax = plt.gca()\n",
    "\n",
    "# Plot GnIES\n",
    "for i,n in enumerate(Ns):\n",
    "    ax.plot(gnies_x[:,i], gnies_y[:,i], label=\"n=%d\" % n, color=colors[0], linestyle=styles[i], marker='.')\n",
    "    if text:\n",
    "        for j,l in enumerate(gnies_lambdas):\n",
    "            ax.text(gnies_x[j,i], gnies_y[j,i], \"%.2f\" % l, fontsize=8)\n",
    "        \n",
    "# Plot UT-IGSP\n",
    "for i,n in enumerate(Ns):    \n",
    "    #ax.scatter(utigsp_x[:,:,i], utigsp_y[:,:,i], label=\"n=%d\" % n, color=colors[i], marker='^')\n",
    "    idx = list(range(len(utigsp_alphas)))\n",
    "    ax.plot(utigsp_x[idx,idx,i], utigsp_y[idx,idx,i], label=\"n=%d\" % n, color=colors[1], marker='.', linestyle=styles[i])\n",
    "    if text:\n",
    "        for j,a in enumerate(utigsp_alphas):\n",
    "            for k,b in enumerate(utigsp_betas):\n",
    "                if k == j:\n",
    "                    ax.text(utigsp_x[j,k,i], utigsp_y[j,k,i], \"%.2f, %.2f\" % (a,b), fontsize=8)\n",
    "ax.axis('equal')\n",
    "ax.set_xlim([0,1])\n",
    "ax.set_ylim([0,1])\n",
    "plt.legend()"
   ]
  },
  {
   "cell_type": "code",
   "execution_count": null,
   "metadata": {
    "scrolled": false
   },
   "outputs": [],
   "source": [
    "# Above: ranking, below: greedy approach "
   ]
  },
  {
   "cell_type": "markdown",
   "metadata": {},
   "source": [
    "### Targets recovery"
   ]
  },
  {
   "cell_type": "code",
   "execution_count": null,
   "metadata": {},
   "outputs": [],
   "source": [
    "gnies_x = np.nanmean(computed_metrics['gnies'][metrics.type_1_I], axis=(0,3))\n",
    "gnies_y = 1 - np.nanmean(computed_metrics['gnies'][metrics.type_2_I], axis=(0,3))\n",
    "\n",
    "utigsp_x = np.nanmean(computed_metrics['ut_igsp'][metrics.type_1_I], axis=(0,4))\n",
    "utigsp_y = 1 - np.nanmean(computed_metrics['ut_igsp'][metrics.type_2_I], axis=(0,4))"
   ]
  },
  {
   "cell_type": "code",
   "execution_count": null,
   "metadata": {},
   "outputs": [],
   "source": [
    "styles = [':', '--', '-']\n",
    "text = True\n",
    "\n",
    "plt.figure(figsize=(10,10))\n",
    "ax = plt.gca()\n",
    "\n",
    "# Plot GnIES\n",
    "for i,n in enumerate(Ns):\n",
    "    ax.plot(gnies_x[:,i], gnies_y[:,i], label=\"n=%d\" % n, color=colors[0], linestyle=styles[i], marker='.')\n",
    "    if text:\n",
    "        for j,l in enumerate(gnies_lambdas):\n",
    "            ax.text(gnies_x[j,i], gnies_y[j,i], \"%.2f\" % l, fontsize=8)\n",
    "        \n",
    "# Plot UT-IGSP\n",
    "for i,n in enumerate(Ns):    \n",
    "    #ax.scatter(utigsp_x[:,:,i], utigsp_y[:,:,i], label=\"n=%d\" % n, color=colors[i], marker='^')\n",
    "    idx = list(range(len(utigsp_alphas)))\n",
    "    ax.plot(utigsp_x[idx,idx,i], utigsp_y[idx,idx,i], label=\"n=%d\" % n, color=colors[1], marker='.', linestyle=styles[i])\n",
    "    if text:\n",
    "        for j,a in enumerate(utigsp_alphas):\n",
    "            for k,b in enumerate(utigsp_betas):\n",
    "                if k == j:\n",
    "                    ax.text(utigsp_x[j,k,i], utigsp_y[j,k,i], \"%.2f, %.2f\" % (a,b), fontsize=8)\n",
    "ax.axis('equal')\n",
    "ax.set_xlim([0,1])\n",
    "ax.set_ylim([0,1])\n",
    "plt.legend()"
   ]
  },
  {
   "cell_type": "code",
   "execution_count": null,
   "metadata": {
    "scrolled": false
   },
   "outputs": [],
   "source": [
    "# Above: ranking, below: greedy approach "
   ]
  },
  {
   "cell_type": "code",
   "execution_count": null,
   "metadata": {},
   "outputs": [],
   "source": [
    "import gnies\n",
    "import src.metrics\n",
    "A = sempler.generators.dag_full(p=5)\n",
    "cpdag = gnies.utils.dag_to_cpdag(A)\n",
    "all_dags = gnies.utils.all_dags(cpdag)\n",
    "len(all_dags)"
   ]
  },
  {
   "cell_type": "code",
   "execution_count": null,
   "metadata": {},
   "outputs": [],
   "source": [
    "for i in range(100):\n",
    "    A = sempler.generators.dag_avg_deg(p=5, k=2)\n",
    "    cpdag = gnies.utils.dag_to_cpdag(A)\n",
    "    all_dags_A = gnies.utils.all_dags(cpdag)    \n",
    "    t1 = src.metrics.type_1_structc(all_dags, all_dags_A)\n",
    "    t2 = src.metrics.type_2_structc(all_dags, all_dags_A)    \n",
    "    print(\"t1 : %0.3f - t2 : %0.3f\" % (t1, t2))\n",
    "    #print(\"  len(all_dags_A) =\", len(all_dags_A))"
   ]
  },
  {
   "cell_type": "code",
   "execution_count": null,
   "metadata": {},
   "outputs": [],
   "source": []
  }
 ],
 "metadata": {
  "kernelspec": {
   "display_name": "Python 3",
   "language": "python",
   "name": "python3"
  },
  "language_info": {
   "codemirror_mode": {
    "name": "ipython",
    "version": 3
   },
   "file_extension": ".py",
   "mimetype": "text/x-python",
   "name": "python",
   "nbconvert_exporter": "python",
   "pygments_lexer": "ipython3",
   "version": "3.7.4"
  }
 },
 "nbformat": 4,
 "nbformat_minor": 2
}
