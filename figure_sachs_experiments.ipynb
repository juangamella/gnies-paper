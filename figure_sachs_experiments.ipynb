{
 "cells": [
  {
   "cell_type": "code",
   "execution_count": 1,
   "metadata": {},
   "outputs": [],
   "source": [
    "import numpy as np\n",
    "import sempler\n",
    "import sempler.generators\n",
    "import src.utils as utils\n",
    "import src.metrics as metrics\n",
    "\n",
    "import matplotlib\n",
    "import matplotlib.pyplot as plt\n",
    "from matplotlib.lines import Line2D\n",
    "from matplotlib import gridspec\n",
    "\n",
    "import pickle\n",
    "import os\n",
    "\n",
    "import time"
   ]
  },
  {
   "cell_type": "code",
   "execution_count": 2,
   "metadata": {},
   "outputs": [
    {
     "data": {
      "text/plain": [
       "<matplotlib.collections.PathCollection at 0x7fc9601ff940>"
      ]
     },
     "execution_count": 2,
     "metadata": {},
     "output_type": "execute_result"
    },
    {
     "data": {
      "image/png": "[encoded data removed]",
      "text/plain": [
       "<Figure size 432x288 with 1 Axes>"
      ]
     },
     "metadata": {
      "needs_background": "light"
     },
     "output_type": "display_data"
    }
   ],
   "source": [
    "# Set tex formatting for plots\n",
    "from matplotlib import rc\n",
    "rc('font',**{'family':'serif','sans-serif':['Computer Modern Roman']})\n",
    "rc('text', usetex=True)\n",
    "#plt.rcParams[\"font.family\"] = \"serif\"\n",
    "#plt.rcParams[\"font.serif\"] = [\"Computer Modern Roman\"]\n",
    "\n",
    "# Set legend size\n",
    "from matplotlib.font_manager import FontProperties\n",
    "fontP = FontProperties()\n",
    "fontP.set_size('medium')\n",
    "\n",
    "# Colors\n",
    "def to_rgb(H, b=1, a=1):\n",
    "    RGBa = []\n",
    "    for h in H:\n",
    "        h = h.lstrip(\"#\")\n",
    "        RGBa.append(tuple(int(h[i:i+2], 16) / 256 * b for i in (0, 2, 4)) + (a,))\n",
    "    return np.array(RGBa)\n",
    "\n",
    "cmap = matplotlib.cm.get_cmap('tab20')\n",
    "# Colorblind safe palettes\n",
    "base = ['#d73027', '#f46d43', '#fdae61', '#fee090', '#020202', '#abd9e9', '#74add1', '#4575b4']\n",
    "#base = ['#b2182b', '#d6604d', '#f4a582', '#fddbc7', '#d1e5f0', '#92c5de', '#4393c3', '#2166ac']\n",
    "#base = ['#8c510a', '#bf812d', '#dfc27d', '#f6e8c3', '#c7eae5', '#80cdc1', '#35978f', '#01665e']\n",
    "# Rainbow palette\n",
    "base = [\"#ff4365\", \"#ffdd43\", \"#59ff43\", \"#43ffdd\", \"#7395ff\", \"#4365ff\", \"#e943ff\", \"#601e9e\", \"#6a6a6a\", \"#964b00\"]#np.array([cmap(i) for i in range(2,20)])\n",
    "plt.scatter(np.arange(len(base)), np.ones(len(base)), c = base)\n",
    "#base = [base[i] for i in [0,1,3]]\n",
    "colors = to_rgb(base)\n",
    "colorsa = to_rgb(base, a=0.5)\n",
    "colorsb = to_rgb(base, b=0.7)\n",
    "plt.scatter(np.arange(len(colors)), np.zeros(len(colors)), c = colors)\n",
    "plt.scatter(np.arange(len(colors)), np.ones(len(colors))*0.5, c = colorsa)\n",
    "plt.scatter(np.arange(len(colors)), np.ones(len(colors))*-0.5, c = colorsb)"
   ]
  },
  {
   "cell_type": "markdown",
   "metadata": {},
   "source": [
    "## Load results"
   ]
  },
  {
   "cell_type": "code",
   "execution_count": 3,
   "metadata": {},
   "outputs": [],
   "source": [
    "directory_real = \"sachs_experiments/real_dataset_dag:consensus/\"\n",
    "directory_gauss = \"sachs_experiments/dataset_1658417439_runs:10_seed:42_tag:sachs_consensus_type:gauss_standardize:0_n:None/\"\n",
    "directory_drf = \"sachs_experiments/dataset_1658417465_runs:10_seed:42_tag:sachs_consensus_type:drf_standardize:0_n:None/\""
   ]
  },
  {
   "cell_type": "code",
   "execution_count": 4,
   "metadata": {},
   "outputs": [],
   "source": [
    "def load_results(directory, method, lambdas_idx=2):\n",
    "    args, results = utils.read_pickle(directory + utils.compiled_results_filename(method))\n",
    "    ground_truth, metrics = utils.read_pickle(directory + \"metrics_%s.pickle\" % method)\n",
    "    return args, results, ground_truth, metrics, args[lambdas_idx]"
   ]
  },
  {
   "cell_type": "markdown",
   "metadata": {},
   "source": [
    "**GnIES**"
   ]
  },
  {
   "cell_type": "code",
   "execution_count": 5,
   "metadata": {},
   "outputs": [
    {
     "data": {
      "text/plain": [
       "(1.0, 1.0, 1.0)"
      ]
     },
     "execution_count": 5,
     "metadata": {},
     "output_type": "execute_result"
    }
   ],
   "source": [
    "gnies_args, gnies_results, _, gnies_metrics_real, gnies_lambdas = load_results(directory_real, 'gnies')\n",
    "gnies_args, gnies_results, _, gnies_metrics_gauss, gnies_lambdas = load_results(directory_gauss, 'gnies')\n",
    "gnies_args, gnies_results, _, gnies_metrics_drf, gnies_lambdas = load_results(directory_drf, 'gnies')\n",
    "\n",
    "gnies_x_real = np.nanmean(gnies_metrics_real[metrics.type_1_structc], axis=(0,3))\n",
    "gnies_y_real = np.nanmean(gnies_metrics_real[metrics.type_2_structc], axis=(0,3))\n",
    "\n",
    "gnies_x_gauss = np.nanmean(gnies_metrics_gauss[metrics.type_1_structc], axis=(0,3))\n",
    "gnies_y_gauss = np.nanmean(gnies_metrics_gauss[metrics.type_2_structc], axis=(0,3))\n",
    "\n",
    "gnies_x_drf = np.nanmean(gnies_metrics_drf[metrics.type_1_structc], axis=(0,3))\n",
    "gnies_y_drf = np.nanmean(gnies_metrics_drf[metrics.type_2_structc], axis=(0,3))\n",
    "\n",
    "(gnies_metrics_real[metrics.success_metric].mean()\n",
    " ,gnies_metrics_gauss[metrics.success_metric].mean()\n",
    " ,gnies_metrics_drf[metrics.success_metric].mean())"
   ]
  },
  {
   "cell_type": "markdown",
   "metadata": {},
   "source": [
    "**UT-IGSP**"
   ]
  },
  {
   "cell_type": "code",
   "execution_count": 6,
   "metadata": {},
   "outputs": [
    {
     "data": {
      "text/plain": [
       "(1.0, 1.0, 1.0)"
      ]
     },
     "execution_count": 6,
     "metadata": {},
     "output_type": "execute_result"
    }
   ],
   "source": [
    "ut_igsp_args, ut_igsp_results, _, ut_igsp_metrics_real, ut_igsp_alphas_real = load_results(directory_real, 'ut_igsp',lambdas_idx=1)\n",
    "ut_igsp_args, ut_igsp_results, _, ut_igsp_metrics_gauss, ut_igsp_alphas_gauss = load_results(directory_gauss, 'ut_igsp',lambdas_idx=1)\n",
    "ut_igsp_args, ut_igsp_results, _, ut_igsp_metrics_drf, ut_igsp_alphas_drf = load_results(directory_drf, 'ut_igsp',lambdas_idx=1)\n",
    "\n",
    "ut_igsp_x_real = np.nanmean(ut_igsp_metrics_real[metrics.type_1_structc], axis=(0,4))[:,0]\n",
    "ut_igsp_y_real = np.nanmean(ut_igsp_metrics_real[metrics.type_2_structc], axis=(0,4))[:,0]\n",
    "\n",
    "ut_igsp_x_gauss = np.nanmean(ut_igsp_metrics_gauss[metrics.type_1_structc], axis=(0,4))[:,0]\n",
    "ut_igsp_y_gauss = np.nanmean(ut_igsp_metrics_gauss[metrics.type_2_structc], axis=(0,4))[:,0]\n",
    "\n",
    "ut_igsp_x_drf = np.nanmean(ut_igsp_metrics_drf[metrics.type_1_structc], axis=(0,4))[:,0]\n",
    "ut_igsp_y_drf = np.nanmean(ut_igsp_metrics_drf[metrics.type_2_structc], axis=(0,4))[:,0]\n",
    "\n",
    "(ut_igsp_metrics_real[metrics.success_metric].mean()\n",
    " ,ut_igsp_metrics_gauss[metrics.success_metric].mean()\n",
    " ,ut_igsp_metrics_drf[metrics.success_metric].mean())"
   ]
  },
  {
   "cell_type": "markdown",
   "metadata": {},
   "source": [
    "**GES**"
   ]
  },
  {
   "cell_type": "code",
   "execution_count": 7,
   "metadata": {},
   "outputs": [
    {
     "data": {
      "text/plain": [
       "(1.0, 1.0, 1.0)"
      ]
     },
     "execution_count": 7,
     "metadata": {},
     "output_type": "execute_result"
    }
   ],
   "source": [
    "ges_args, ges_results, _, ges_metrics_real, ges_lambdas = load_results(directory_real, 'ges')\n",
    "ges_args, ges_results, _, ges_metrics_gauss, ges_lambdas = load_results(directory_gauss, 'ges')\n",
    "ges_args, ges_results, _, ges_metrics_drf, ges_lambdas = load_results(directory_drf, 'ges')\n",
    "\n",
    "ges_x_real = np.nanmean(ges_metrics_real[metrics.type_1_structc], axis=(0,3))\n",
    "ges_y_real = np.nanmean(ges_metrics_real[metrics.type_2_structc], axis=(0,3))\n",
    "\n",
    "ges_x_gauss = np.nanmean(ges_metrics_gauss[metrics.type_1_structc], axis=(0,3))\n",
    "ges_y_gauss = np.nanmean(ges_metrics_gauss[metrics.type_2_structc], axis=(0,3))\n",
    "\n",
    "ges_x_drf = np.nanmean(ges_metrics_drf[metrics.type_1_structc], axis=(0,3))\n",
    "ges_y_drf = np.nanmean(ges_metrics_drf[metrics.type_2_structc], axis=(0,3))\n",
    "\n",
    "(ges_metrics_real[metrics.success_metric].mean()\n",
    " ,ges_metrics_gauss[metrics.success_metric].mean()\n",
    " ,ges_metrics_drf[metrics.success_metric].mean())"
   ]
  },
  {
   "cell_type": "code",
   "execution_count": null,
   "metadata": {},
   "outputs": [],
   "source": [
    "ges_x_real"
   ]
  },
  {
   "cell_type": "markdown",
   "metadata": {},
   "source": [
    "## Figures"
   ]
  },
  {
   "cell_type": "markdown",
   "metadata": {},
   "source": [
    "### Figure 1: Class recovery trajectories"
   ]
  },
  {
   "cell_type": "code",
   "execution_count": 16,
   "metadata": {
    "scrolled": true
   },
   "outputs": [
    {
     "data": {
      "image/png": "[encoded data removed]",
      "text/plain": [
       "<Figure size 648x216 with 3 Axes>"
      ]
     },
     "metadata": {
      "needs_background": "light"
     },
     "output_type": "display_data"
    }
   ],
   "source": [
    "text = True\n",
    "textsize = 5\n",
    "lineopts = {'linewidth': 1}\n",
    "ticks = [0, 0.2, 0.4, 0.6, 0.8, 1]\n",
    "marker = {'gnies': '.',\n",
    "          'gnies_rank': '.',\n",
    "          'ges': '*',\n",
    "          'ut_igsp': '^',\n",
    "          'ut_igsp+': '^',\n",
    "          'jci_pc': 's',           \n",
    "}\n",
    "style = {'gnies': '-',\n",
    "         'gnies_rank': ':',\n",
    "         'ges': ':',\n",
    "         'ut_igsp': ':',\n",
    "         'ut_igsp+': '--',\n",
    "         'jci_pc': ':',\n",
    "           \n",
    "}\n",
    "color = {'gnies': colors[0],\n",
    "         'gnies_rank': colorsa[0],\n",
    "         'ges': colors[1],\n",
    "         'ut_igsp': colors[4],\n",
    "         'ut_igsp+': colors[5],\n",
    "         'jci_pc': colors[2],\n",
    "         \n",
    "}\n",
    "\n",
    "print_names = {'gnies': 'GnIES',\n",
    "               #'gnies_rank': 'GnIES-rank',\n",
    "               'ges': 'GES',\n",
    "               'ut_igsp': 'UT-IGSP',\n",
    "               #'ut_igsp+': 'UT-IGSP+',\n",
    "               #'jci_pc': 'JCI-PC',         \n",
    "}\n",
    "\n",
    "def set_ax(ax, yticks=True):\n",
    "    ax.set_xlim([0,1])\n",
    "    ax.set_ylim([0,1])\n",
    "    ax.set_xlabel('FDP')\n",
    "    ax.set_ylabel('TDP') if yticks else None\n",
    "    ax.set_yticks(ticks)\n",
    "    ax.set_xticks(ticks)\n",
    "    ax.set_xticklabels(ticks)\n",
    "    ax.set_yticklabels(ticks) if yticks else ax.set_yticklabels([])\n",
    "\n",
    "def plot_metric(ax, values_x, values_y, lambdas, method, points, text):\n",
    "    values_y = 1 - values_y\n",
    "    ax.plot(values_x, values_y, color=color[method], linestyle=style[method], **lineopts)\n",
    "    for j, l in enumerate(lambdas):\n",
    "        #ax.scatter(values_x[j], values_y[j], color=color[method], marker=\".\", linewidth=0)\n",
    "        if j==0 and text[0] is not None:\n",
    "            ax.text(values_x[j], values_y[j], \"$%0.2f$\" % l, fontsize=textsize)\n",
    "        if l==lambdas[-1] and text[1] is not None:\n",
    "            ax.text(values_x[j], values_y[j], \"$%0.2f$\" % l, fontsize=textsize)\n",
    "        if j in points:\n",
    "            ax.scatter(values_x[j], values_y[j], color=color[method], marker=marker[method], linewidth=0)\n",
    "\n",
    "gs = gridspec.GridSpec(1, 3, wspace=0.10, hspace=0.2)\n",
    "plt.figure(figsize=(9,3))\n",
    "ax = plt.gca()\n",
    "\n",
    "###########################\n",
    "# PLOT REAL DATA\n",
    "plt.subplot(gs[0])\n",
    "ax = plt.gca()    \n",
    "ax0 = ax\n",
    "# Plot GnIES\n",
    "plot_metric(ax, gnies_x_real, gnies_y_real, gnies_lambdas, 'gnies', [0,2,len(gnies_lambdas)-1], [\"%0.2f\", \"%d\"])      \n",
    "# Plot UT-IGSP\n",
    "plot_metric(ax, ut_igsp_x_real, ut_igsp_y_real, ut_igsp_alphas_real, 'ut_igsp', [0,len(ut_igsp_alphas_real)-1], [\"%0.2f\", \"%d\"])\n",
    "# Plot GES\n",
    "plot_metric(ax, ges_x_real, ges_y_real, ges_lambdas, 'ges', [0,2,len(ges_lambdas)-1], [\"%0.2f\", \"%d\"])    \n",
    "set_ax(ax, yticks=True)\n",
    "ax.set_title(\"Real data\")\n",
    "\n",
    "###########################\n",
    "# PLOT GAUSSIAN DATA\n",
    "plt.subplot(gs[1])\n",
    "ax = plt.gca()    \n",
    "# Plot GnIES\n",
    "plot_metric(ax, gnies_x_gauss, gnies_y_gauss, gnies_lambdas, 'gnies', [0,2,len(gnies_lambdas)-1], [\"%0.2f\", \"%d\"])      \n",
    "# Plot UT-IGSP\n",
    "plot_metric(ax, ut_igsp_x_gauss, ut_igsp_y_gauss, ut_igsp_alphas_gauss, 'ut_igsp', [0,len(ut_igsp_alphas_gauss)-1], [\"%0.2f\", \"%d\"])\n",
    "# Plot GES\n",
    "plot_metric(ax, ges_x_gauss, ges_y_gauss, ges_lambdas, 'ges', [0,2,len(ges_lambdas)-1], [\"%0.2f\", \"%d\"])    \n",
    "set_ax(ax, yticks=False)\n",
    "ax.set_title(\"Data from fitted Gaussian SCM\")\n",
    "\n",
    "###########################\n",
    "# PLOT DRF DATA\n",
    "plt.subplot(gs[2])\n",
    "ax = plt.gca()    \n",
    "# Plot GnIES\n",
    "plot_metric(ax, gnies_x_drf, gnies_y_drf, gnies_lambdas, 'gnies', [0,2,len(gnies_lambdas)-1], [\"%0.2f\", \"%d\"])      \n",
    "# Plot UT-IGSP\n",
    "plot_metric(ax, ut_igsp_x_drf, ut_igsp_y_drf, ut_igsp_alphas_drf, 'ut_igsp', [0,len(ut_igsp_alphas_drf)-1], [\"%0.2f\", \"%d\"])\n",
    "# Plot GES\n",
    "plot_metric(ax, ges_x_drf, ges_y_drf, ges_lambdas, 'ges', [0,2,len(ges_lambdas)-1], [\"%0.2f\", \"%d\"])    \n",
    "set_ax(ax, yticks=False)\n",
    "ax.set_title(\"Data from fitted DRF SCM\")\n",
    "\n",
    "# Build legend\n",
    "method_entries = [Line2D([0], [0],\n",
    "                         linewidth=1,\n",
    "                         linestyle=style[method],\n",
    "                         marker=marker[method],\n",
    "                         color=color[method]) for method in print_names.keys()]\n",
    "method_str = list(print_names.values())\n",
    "ax0.legend(method_entries, #+ sample_size_entries\n",
    "          method_str, # + sample_size_str\n",
    "          prop={'size':8},\n",
    "          loc='upper left',\n",
    "        ncol=1)\n",
    "\n",
    "\n",
    "plt.savefig('figures/figure_sachs.pdf', bbox_inches='tight')"
   ]
  },
  {
   "cell_type": "markdown",
   "metadata": {},
   "source": [
    "## Justification of non-linearity, non-gaussianity"
   ]
  },
  {
   "cell_type": "code",
   "execution_count": 19,
   "metadata": {},
   "outputs": [],
   "source": [
    "import src.sachs as sachs\n",
    "from sklearn.neighbors import KernelDensity"
   ]
  },
  {
   "cell_type": "code",
   "execution_count": 169,
   "metadata": {},
   "outputs": [],
   "source": [
    "def plot_density(ax, data, n=1000):\n",
    "    data = np.atleast_2d(data).T\n",
    "    print(data.shape)\n",
    "    kde = KernelDensity(kernel='gaussian', bandwidth=0.5).fit(data)\n",
    "    X_plot = np.atleast_2d(np.linspace(data.min(), data.max(), n)).T\n",
    "    print(X_plot.shape)\n",
    "    print(data.min(), data.max())\n",
    "    log_dens = kde.score_samples(X_plot)\n",
    "    #ax.scatter(data)\n",
    "    ax.plot(X_plot,np.exp(log_dens))"
   ]
  },
  {
   "cell_type": "code",
   "execution_count": 333,
   "metadata": {},
   "outputs": [],
   "source": [
    "def plot_marginals(datas, labels, colors, edgecolors, hatches, filename=None):\n",
    "    node2idx = dict((n,i) for i,n in enumerate(sachs.node_names))    \n",
    "    gs = gridspec.GridSpec(4, 3, wspace=0.2, hspace=0.2)\n",
    "    for name,i in node2idx.items():\n",
    "        plt.subplot(gs[i+1])        \n",
    "        ax = plt.gca()\n",
    "        if i==0:\n",
    "            ax0 = ax\n",
    "        ax.text(0.9,0.9,\"%s\" % name, transform=ax.transAxes, fontsize=12, ha='right', va='top')\n",
    "        hist = ax.hist([data[:,i] for data in datas])    \n",
    "        for i,bars in enumerate(hist[2]):\n",
    "            for j,bar in enumerate(bars):\n",
    "                bar.set(fill=True, hatch=hatches[i], linewidth=1, facecolor=colors[i], edgecolor=edgecolors[i])\n",
    "                bar.set(label=labels[i]) if j==0 else None    \n",
    "    ax0.legend(loc=(-1.2,0.5), prop={'size': 12})"
   ]
  },
  {
   "cell_type": "code",
   "execution_count": 334,
   "metadata": {},
   "outputs": [],
   "source": [
    "real_data = sachs.load_data(normalize=False)\n",
    "gauss_data = utils.load_bin(directory_gauss + \"test_case_n:-1_g:0_r:0\")\n",
    "drf_data = utils.load_bin(directory_drf + \"test_case_n:-1_g:0_r:0\")"
   ]
  },
  {
   "cell_type": "code",
   "execution_count": 335,
   "metadata": {},
   "outputs": [
    {
     "data": {
      "text/plain": [
       "(8, 6)"
      ]
     },
     "execution_count": 335,
     "metadata": {},
     "output_type": "execute_result"
    }
   ],
   "source": [
    "node2idx = dict((n,i) for i,n in enumerate(sachs.node_names))\n",
    "node2idx['PKA'], node2idx['PKC']"
   ]
  },
  {
   "cell_type": "code",
   "execution_count": 367,
   "metadata": {},
   "outputs": [
    {
     "data": {
      "image/png": "[encoded data removed]",
      "text/plain": [
       "<Figure size 648x864 with 11 Axes>"
      ]
     },
     "metadata": {
      "needs_background": "light"
     },
     "output_type": "display_data"
    }
   ],
   "source": [
    "labels = ['Real data', 'Data from\\nfitted DRF SCM']\n",
    "plt.figure(figsize=(9,12))\n",
    "gs = plot_marginals([real_data[0], drf_data[0]], labels=labels, colors=colorsa[[0,4]], edgecolors=colorsb[[0,4]], hatches=['...', '////'])\n",
    "plt.savefig(\"figures/real_vs_drf_marginals.pdf\", bbox_inches='tight',transform=ax.transAxes)"
   ]
  },
  {
   "cell_type": "code",
   "execution_count": 376,
   "metadata": {},
   "outputs": [
    {
     "data": {
      "image/png": "[encoded data removed]",
      "text/plain": [
       "<Figure size 648x216 with 1 Axes>"
      ]
     },
     "metadata": {
      "needs_background": "light"
     },
     "output_type": "display_data"
    }
   ],
   "source": [
    "#### k = 0\n",
    "node2idx = dict((n,i) for i,n in enumerate(sachs.node_names))\n",
    "x_node, y_node = 'PKA', 'RAF'\n",
    "#x_node, y_node = 'PIP3', 'PLcg'\n",
    "#x_node, y_node = 'PLcg', 'PIP2'\n",
    "#x_node, y_node = 'PKC', 'RAF'\n",
    "x,y = node2idx[x_node], node2idx[y_node]\n",
    "plt.figure(figsize=(9,3))\n",
    "ax = plt.gca()\n",
    "t = lambda x: x\n",
    "ax.scatter(real_data[k][:,x], t(real_data[k][:,y]), marker='.', color=colors[0], label=labels[0])\n",
    "ax.scatter(drf_data[k][:,x], t(drf_data[k][:,y]), marker='.', color=colors[4], label=labels[1])\n",
    "ax.set_xlabel(x_node)\n",
    "ax.set_ylabel(y_node)\n",
    "#ax.text(0.8,0.6, \"%s $\\\\to$ %s\" % (x_node, y_node), transform=ax.transAxes, ha='right', va='top', size=12)\n",
    "ax.legend(title=\"%s $\\\\to$ %s\" % (x_node, y_node))\n",
    "plt.savefig(\"figures/%s_vs_%s.pdf\" % (x_node, y_node),bbox_inches='tight')"
   ]
  },
  {
   "cell_type": "code",
   "execution_count": 349,
   "metadata": {},
   "outputs": [
    {
     "data": {
      "text/plain": [
       "['RAF',\n",
       " 'MEK',\n",
       " 'ERK',\n",
       " 'PLcg',\n",
       " 'PIP2',\n",
       " 'PIP3',\n",
       " 'PKC',\n",
       " 'AKT',\n",
       " 'PKA',\n",
       " 'JNK',\n",
       " 'P38']"
      ]
     },
     "execution_count": 349,
     "metadata": {},
     "output_type": "execute_result"
    }
   ],
   "source": [
    "sachs.node_names"
   ]
  },
  {
   "cell_type": "code",
   "execution_count": null,
   "metadata": {},
   "outputs": [],
   "source": []
  }
 ],
 "metadata": {
  "kernelspec": {
   "display_name": "Python 3",
   "language": "python",
   "name": "python3"
  },
  "language_info": {
   "codemirror_mode": {
    "name": "ipython",
    "version": 3
   },
   "file_extension": ".py",
   "mimetype": "text/x-python",
   "name": "python",
   "nbconvert_exporter": "python",
   "pygments_lexer": "ipython3",
   "version": "3.7.3"
  }
 },
 "nbformat": 4,
 "nbformat_minor": 2
}
