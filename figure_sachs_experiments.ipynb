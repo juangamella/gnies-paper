{
 "cells": [
  {
   "cell_type": "code",
   "execution_count": 1,
   "metadata": {},
   "outputs": [],
   "source": [
    "import numpy as np\n",
    "import sempler\n",
    "import sempler.generators\n",
    "import src.utils as utils\n",
    "import src.metrics as metrics\n",
    "\n",
    "import matplotlib\n",
    "import matplotlib.pyplot as plt\n",
    "from matplotlib.lines import Line2D\n",
    "from matplotlib import gridspec\n",
    "\n",
    "import pickle\n",
    "import os\n",
    "\n",
    "import time"
   ]
  },
  {
   "cell_type": "code",
   "execution_count": 2,
   "metadata": {},
   "outputs": [
    {
     "data": {
      "text/plain": [
       "<matplotlib.collections.PathCollection at 0x7f66a2f706a0>"
      ]
     },
     "execution_count": 2,
     "metadata": {},
     "output_type": "execute_result"
    },
    {
     "data": {
      "image/png": "[encoded data removed]",
      "text/plain": [
       "<Figure size 432x288 with 1 Axes>"
      ]
     },
     "metadata": {
      "needs_background": "light"
     },
     "output_type": "display_data"
    }
   ],
   "source": [
    "# Set tex formatting for plots\n",
    "from matplotlib import rc\n",
    "rc('font',**{'family':'serif','sans-serif':['Computer Modern Roman']})\n",
    "rc('text', usetex=True)\n",
    "#plt.rcParams[\"font.family\"] = \"serif\"\n",
    "#plt.rcParams[\"font.serif\"] = [\"Computer Modern Roman\"]\n",
    "\n",
    "# Set legend size\n",
    "from matplotlib.font_manager import FontProperties\n",
    "fontP = FontProperties()\n",
    "fontP.set_size('medium')\n",
    "\n",
    "# Colors\n",
    "def to_rgb(H, b=1, a=1):\n",
    "    RGBa = []\n",
    "    for h in H:\n",
    "        h = h.lstrip(\"#\")\n",
    "        RGBa.append(tuple(int(h[i:i+2], 16) / 256 * b for i in (0, 2, 4)) + (a,))\n",
    "    return np.array(RGBa)\n",
    "\n",
    "cmap = matplotlib.cm.get_cmap('tab20')\n",
    "# Colorblind safe palettes\n",
    "base = ['#d73027', '#f46d43', '#fdae61', '#fee090', '#020202', '#abd9e9', '#74add1', '#4575b4']\n",
    "#base = ['#b2182b', '#d6604d', '#f4a582', '#fddbc7', '#d1e5f0', '#92c5de', '#4393c3', '#2166ac']\n",
    "#base = ['#8c510a', '#bf812d', '#dfc27d', '#f6e8c3', '#c7eae5', '#80cdc1', '#35978f', '#01665e']\n",
    "# Rainbow palette\n",
    "base = [\"#ff4365\", \"#ffdd43\", \"#59ff43\", \"#43ffdd\", \"#7395ff\", \"#4365ff\", \"#e943ff\", \"#601e9e\", \"#6a6a6a\", \"#964b00\"]#np.array([cmap(i) for i in range(2,20)])\n",
    "plt.scatter(np.arange(len(base)), np.ones(len(base)), c = base)\n",
    "#base = [base[i] for i in [0,1,3]]\n",
    "colors = to_rgb(base)\n",
    "colorsa = to_rgb(base, a=0.5)\n",
    "colorsb = to_rgb(base, b=0.7)\n",
    "plt.scatter(np.arange(len(colors)), np.zeros(len(colors)), c = colors)\n",
    "plt.scatter(np.arange(len(colors)), np.ones(len(colors))*0.5, c = colorsa)\n",
    "plt.scatter(np.arange(len(colors)), np.ones(len(colors))*-0.5, c = colorsb)"
   ]
  },
  {
   "cell_type": "markdown",
   "metadata": {},
   "source": [
    "## Load results"
   ]
  },
  {
   "cell_type": "code",
   "execution_count": 3,
   "metadata": {},
   "outputs": [],
   "source": [
    "directory_real = \"sachs_experiments/real_dataset_dag:consensus/\"\n",
    "directory_gauss = \"sachs_experiments/dataset_1658417439_runs:10_seed:42_tag:sachs_consensus_type:gauss_standardize:0_n:None/\"\n",
    "directory_drf = \"sachs_experiments/dataset_1658417439_runs:10_seed:42_tag:sachs_consensus_type:gauss_standardize:0_n:None/\""
   ]
  },
  {
   "cell_type": "code",
   "execution_count": 52,
   "metadata": {},
   "outputs": [],
   "source": [
    "def load_results(directory, method, lambdas_idx=2):\n",
    "    args, results = utils.read_pickle(directory + utils.compiled_results_filename(method))\n",
    "    ground_truth, metrics = utils.read_pickle(directory + \"metrics_%s.pickle\" % method)\n",
    "    return args, results, ground_truth, metrics, args[lambdas_idx]"
   ]
  },
  {
   "cell_type": "code",
   "execution_count": 53,
   "metadata": {},
   "outputs": [],
   "source": [
    "test_cases = utils.read_pickle(directory + 'test_cases.pickle')\n",
    "Ns = sorted(test_cases['Ns'])"
   ]
  },
  {
   "cell_type": "markdown",
   "metadata": {},
   "source": [
    "**GnIES**"
   ]
  },
  {
   "cell_type": "code",
   "execution_count": 54,
   "metadata": {},
   "outputs": [],
   "source": [
    "gnies_args, gnies_results, _, gnies_metrics_real, gnies_lambdas = load_results(directory, 'gnies')\n",
    "gnies_args, gnies_results, _, gnies_metrics_gauss, gnies_lambdas = load_results(directory, 'gnies')\n",
    "gnies_args, gnies_results, _, gnies_metrics_drf, gnies_lambdas = load_results(directory, 'gnies')"
   ]
  },
  {
   "cell_type": "code",
   "execution_count": 55,
   "metadata": {},
   "outputs": [
    {
     "data": {
      "text/plain": [
       "1.0"
      ]
     },
     "execution_count": 55,
     "metadata": {},
     "output_type": "execute_result"
    }
   ],
   "source": [
    "gnies_metrics[metrics.success_metric].mean()"
   ]
  },
  {
   "cell_type": "markdown",
   "metadata": {},
   "source": [
    "**UT-IGSP**"
   ]
  },
  {
   "cell_type": "code",
   "execution_count": 58,
   "metadata": {},
   "outputs": [],
   "source": [
    "ut_igsp_args, ut_igsp_results, _, ut_igsp_metrics, ut_igsp_lambdas = load_results(directory, 'ut_igsp')"
   ]
  },
  {
   "cell_type": "code",
   "execution_count": 59,
   "metadata": {},
   "outputs": [
    {
     "data": {
      "text/plain": [
       "1.0"
      ]
     },
     "execution_count": 59,
     "metadata": {},
     "output_type": "execute_result"
    }
   ],
   "source": [
    "utigsp_metrics[metrics.success_metric].mean()"
   ]
  },
  {
   "cell_type": "markdown",
   "metadata": {},
   "source": [
    "**UT-IGSP+**"
   ]
  },
  {
   "cell_type": "code",
   "execution_count": 9,
   "metadata": {},
   "outputs": [
    {
     "data": {
      "text/plain": [
       "(array([1.00000e-05, 2.50075e-02, 5.00050e-02, 7.50025e-02, 1.00000e-01]),\n",
       " array([1.00000e-05, 2.50075e-02, 5.00050e-02, 7.50025e-02, 1.00000e-01]))"
      ]
     },
     "execution_count": 9,
     "metadata": {},
     "output_type": "execute_result"
    }
   ],
   "source": [
    "ut_igsp_plus_args, ut_igsp_plus_results = utils.read_pickle(directory + \"compiled_results_ut_igsp_plus.pickle\")\n",
    "ground_truth, utigsp_plus_metrics = utils.read_pickle(directory + \"metrics_ut_igsp_plus.pickle\")\n",
    "utigsp_plus_alphas, utigsp_plus_betas = ut_igsp_args[1], ut_igsp_args[2]\n",
    "utigsp_plus_alphas, utigsp_plus_betas"
   ]
  },
  {
   "cell_type": "code",
   "execution_count": 10,
   "metadata": {},
   "outputs": [
    {
     "data": {
      "text/plain": [
       "1.0"
      ]
     },
     "execution_count": 10,
     "metadata": {},
     "output_type": "execute_result"
    }
   ],
   "source": [
    "utigsp_plus_metrics[metrics.success_metric].mean()"
   ]
  },
  {
   "cell_type": "markdown",
   "metadata": {},
   "source": [
    "**GES**"
   ]
  },
  {
   "cell_type": "code",
   "execution_count": 56,
   "metadata": {},
   "outputs": [],
   "source": [
    "ges_args, ges_results, _, ges_metrics, ges_lambdas = load_results(directory, 'ges')"
   ]
  },
  {
   "cell_type": "code",
   "execution_count": 57,
   "metadata": {},
   "outputs": [
    {
     "data": {
      "text/plain": [
       "1.0"
      ]
     },
     "execution_count": 57,
     "metadata": {},
     "output_type": "execute_result"
    }
   ],
   "source": [
    "ges_metrics[metrics.success_metric].mean()"
   ]
  },
  {
   "cell_type": "markdown",
   "metadata": {},
   "source": [
    "**GnIES with rank**"
   ]
  },
  {
   "cell_type": "markdown",
   "metadata": {},
   "source": [
    "gnies_rank_args, gnies_rank_results = utils.read_pickle(directory + \"compiled_results_gnies_rank.pickle\")\n",
    "ground_truth, gnies_rank_metrics = utils.read_pickle(directory + \"metrics_gnies_rank.pickle\")\n",
    "gnies_rank_lambdas = gnies_rank_args[2]\n",
    "gnies_rank_lambdas"
   ]
  },
  {
   "cell_type": "markdown",
   "metadata": {},
   "source": [
    "gnies_rank_metrics[metrics.success_metric].mean()"
   ]
  },
  {
   "cell_type": "markdown",
   "metadata": {},
   "source": [
    "## Figures"
   ]
  },
  {
   "cell_type": "markdown",
   "metadata": {},
   "source": [
    "### Figure 1: Class recovery trajectories"
   ]
  },
  {
   "cell_type": "code",
   "execution_count": 13,
   "metadata": {},
   "outputs": [],
   "source": [
    "gnies_x = np.nanmean(gnies_metrics[metrics.type_1_structc], axis=(0,3))\n",
    "gnies_y = np.nanmean(gnies_metrics[metrics.type_2_structc], axis=(0,3))"
   ]
  },
  {
   "cell_type": "code",
   "execution_count": 35,
   "metadata": {},
   "outputs": [],
   "source": [
    "utigsp_x = np.nanmean(utigsp_metrics[metrics.type_1_structc], axis=(0,4))[range(5), range(5), :]\n",
    "utigsp_y = np.nanmean(utigsp_metrics[metrics.type_2_structc], axis=(0,4))[range(5), range(5), :]"
   ]
  },
  {
   "cell_type": "code",
   "execution_count": 16,
   "metadata": {},
   "outputs": [],
   "source": [
    "ges_x = np.nanmean(ges_metrics[metrics.type_1_structc], axis=(0,3))\n",
    "ges_y = np.nanmean(ges_metrics[metrics.type_2_structc], axis=(0,3))"
   ]
  },
  {
   "cell_type": "code",
   "execution_count": 46,
   "metadata": {},
   "outputs": [
    {
     "data": {
      "image/png": "[encoded data removed]",
      "text/plain": [
       "<Figure size 648x216 with 2 Axes>"
      ]
     },
     "metadata": {
      "needs_background": "light"
     },
     "output_type": "display_data"
    }
   ],
   "source": [
    "text = True\n",
    "textsize = 5\n",
    "lineopts = {'linewidth': 1}\n",
    "ticks = [0, 0.2, 0.4, 0.6, 0.8, 1]\n",
    "marker = {'gnies': '.',\n",
    "          'gnies_rank': '.',\n",
    "          'ges': '*',\n",
    "          'ut_igsp': '^',\n",
    "          'ut_igsp+': '^',\n",
    "          'jci_pc': 's',           \n",
    "}\n",
    "style = {'gnies': '-',\n",
    "         'gnies_rank': ':',\n",
    "         'ges': ':',\n",
    "         'ut_igsp': ':',\n",
    "         'ut_igsp+': '--',\n",
    "         'jci_pc': ':',\n",
    "           \n",
    "}\n",
    "color = {'gnies': colors[0],\n",
    "         'gnies_rank': colorsa[0],\n",
    "         'ges': colors[1],\n",
    "         'ut_igsp': colors[4],\n",
    "         'ut_igsp+': colors[5],\n",
    "         'jci_pc': colors[2],\n",
    "         \n",
    "}\n",
    "\n",
    "print_names = {'gnies': 'GnIES',\n",
    "               #'gnies_rank': 'GnIES-rank',\n",
    "               'ges': 'GES',\n",
    "               'ut_igsp': 'UT-IGSP',\n",
    "               #'ut_igsp+': 'UT-IGSP+',\n",
    "               #'jci_pc': 'JCI-PC',         \n",
    "}\n",
    "\n",
    "def plot_metric(ax, values_x, values_y, lambdas, method, points, text):\n",
    "    ax.plot(values_x, values_y, color=color[method], linestyle=style[method], **lineopts)    \n",
    "    for j in points:\n",
    "        ax.scatter(values_x[j,i], values_y[j,i], color=color[method], marker=marker[method], linewidth=0)\n",
    "        l = lambdas[j]\n",
    "        if text and (j==0 or j==points[-1]):\n",
    "            ax.text(values_x[j,i], values_y[j,i], \"$%0.1f$\" % l, fontsize=textsize)\n",
    "\n",
    "def set_ax(ax, yticks=True):\n",
    "    ax.set_xlim([0,1])\n",
    "    ax.set_ylim([0,1])\n",
    "    ax.set_xlabel('Type-I error metric')    \n",
    "    ax.set_ylabel('Type-II error metric') if yticks else None\n",
    "    ax.set_yticks(ticks)\n",
    "    ax.set_xticks(ticks)\n",
    "    ax.set_xticklabels(ticks)\n",
    "    ax.set_yticklabels(ticks) if yticks else ax.set_yticklabels([])\n",
    "            \n",
    "gs = gridspec.GridSpec(1, 3, wspace=0.10, hspace=0.2)\n",
    "plt.figure(figsize=(9,3))\n",
    "ax = plt.gca()\n",
    "\n",
    "###########################\n",
    "# PLOT REAL DATA\n",
    "plt.subplot(gs[0])\n",
    "ax = plt.gca()    \n",
    "# Plot GnIES\n",
    "plot_metric(ax, gnies_x, gnies_y, gnies_lambdas, 'gnies', [0,2,len(gnies_lambdas)-1], True)      \n",
    "# Plot UT-IGSP\n",
    "plot_metric(ax, utigsp_x, utigsp_y, utigsp_alphas, 'ut_igsp', [0,len(utigsp_alphas)-1], True)\n",
    "# Plot GES\n",
    "plot_metric(ax, ges_x, ges_y, ges_lambdas, 'ges', [0,2,len(ges_lambdas)-1], True)    \n",
    "set_ax(ax, yticks=True)\n",
    "\n",
    "###########################\n",
    "# PLOT GAUSSIAN DATA\n",
    "plt.subplot(gs[1])\n",
    "ax = plt.gca()    \n",
    "# Plot GnIES\n",
    "plot_metric(ax, gnies_x, gnies_y, gnies_lambdas, 'gnies', [0,2,len(gnies_lambdas)-1], True)      \n",
    "# Plot UT-IGSP\n",
    "plot_metric(ax, utigsp_x, utigsp_y, utigsp_alphas, 'ut_igsp', [0,len(utigsp_alphas)-1], True)\n",
    "# Plot GES\n",
    "plot_metric(ax, ges_x, ges_y, ges_lambdas, 'ges', [0,2,len(ges_lambdas)-1], True)    \n",
    "set_ax(ax, yticks=False)\n",
    "\n",
    "\n",
    "\n",
    "# Build legend\n",
    "method_entries = [Line2D([0], [0],\n",
    "                         linewidth=1,\n",
    "                         linestyle=style[method],\n",
    "                         marker=marker[method],\n",
    "                         color=color[method]) for method in print_names.keys()]\n",
    "method_str = list(print_names.values())\n",
    "ax.legend(method_entries, #+ sample_size_entries\n",
    "          method_str, # + sample_size_str\n",
    "          prop={'size':8},\n",
    "          loc='lower left',\n",
    "        ncol=1)\n",
    "\n",
    "\n",
    "plt.savefig('figures/figure_sachs.pdf', bbox_inches='tight')"
   ]
  },
  {
   "cell_type": "code",
   "execution_count": null,
   "metadata": {},
   "outputs": [],
   "source": []
  }
 ],
 "metadata": {
  "kernelspec": {
   "display_name": "Python 3 (ipykernel)",
   "language": "python",
   "name": "python3"
  },
  "language_info": {
   "codemirror_mode": {
    "name": "ipython",
    "version": 3
   },
   "file_extension": ".py",
   "mimetype": "text/x-python",
   "name": "python",
   "nbconvert_exporter": "python",
   "pygments_lexer": "ipython3",
   "version": "3.8.8"
  }
 },
 "nbformat": 4,
 "nbformat_minor": 2
}
