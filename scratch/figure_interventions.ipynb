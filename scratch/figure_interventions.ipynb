{
 "cells": [
  {
   "cell_type": "code",
   "execution_count": 1,
   "metadata": {},
   "outputs": [],
   "source": [
    "import numpy as np\n",
    "import sempler\n",
    "import sempler.generators\n",
    "import src.utils as utils\n",
    "import src.metrics as metrics\n",
    "\n",
    "import matplotlib\n",
    "import matplotlib.pyplot as plt\n",
    "from matplotlib.lines import Line2D\n",
    "from matplotlib import gridspec\n",
    "\n",
    "import pickle\n",
    "import os\n",
    "\n",
    "\n",
    "import time"
   ]
  },
  {
   "cell_type": "code",
   "execution_count": 2,
   "metadata": {},
   "outputs": [
    {
     "data": {
      "text/plain": [
       "<matplotlib.collections.PathCollection at 0x7f5cde655dd8>"
      ]
     },
     "execution_count": 2,
     "metadata": {},
     "output_type": "execute_result"
    },
    {
     "data": {
      "image/png": "[encoded data removed]",
      "text/plain": [
       "<Figure size 432x288 with 1 Axes>"
      ]
     },
     "metadata": {
      "needs_background": "light"
     },
     "output_type": "display_data"
    }
   ],
   "source": [
    "# Set tex formatting for plots\n",
    "from matplotlib import rc\n",
    "rc('font',**{'family':'serif','sans-serif':['Computer Modern Roman']})\n",
    "rc('text', usetex=True)\n",
    "#plt.rcParams[\"font.family\"] = \"serif\"\n",
    "#plt.rcParams[\"font.serif\"] = [\"Computer Modern Roman\"]\n",
    "\n",
    "# Set legend size\n",
    "from matplotlib.font_manager import FontProperties\n",
    "fontP = FontProperties()\n",
    "fontP.set_size('medium')\n",
    "\n",
    "# Colors\n",
    "def to_rgb(H, b=1, a=1):\n",
    "    RGBa = []\n",
    "    for h in H:\n",
    "        h = h.lstrip(\"#\")\n",
    "        RGBa.append(tuple(int(h[i:i+2], 16) / 256 * b for i in (0, 2, 4)) + (a,))\n",
    "    return np.array(RGBa)\n",
    "\n",
    "cmap = matplotlib.cm.get_cmap('tab20')\n",
    "# Colorblind safe palettes\n",
    "base = ['#d73027', '#f46d43', '#fdae61', '#fee090', '#020202', '#abd9e9', '#74add1', '#4575b4']\n",
    "#base = ['#b2182b', '#d6604d', '#f4a582', '#fddbc7', '#d1e5f0', '#92c5de', '#4393c3', '#2166ac']\n",
    "#base = ['#8c510a', '#bf812d', '#dfc27d', '#f6e8c3', '#c7eae5', '#80cdc1', '#35978f', '#01665e']\n",
    "# Rainbow palette\n",
    "base = [\"#ff4365\", \"#ffdd43\", \"#59ff43\", \"#43ffdd\", \"#7395ff\", \"#4365ff\", \"#e943ff\", \"#601e9e\", \"#6a6a6a\", \"#964b00\"]#np.array([cmap(i) for i in range(2,20)])\n",
    "plt.scatter(np.arange(len(base)), np.ones(len(base)), c = base)\n",
    "#base = [base[i] for i in [0,1,3]]\n",
    "colors = to_rgb(base)\n",
    "colorsa = to_rgb(base, a=0.5)\n",
    "colorsb = to_rgb(base, b=0.7)\n",
    "plt.scatter(np.arange(len(colors)), np.zeros(len(colors)), c = colors)\n",
    "plt.scatter(np.arange(len(colors)), np.ones(len(colors))*0.5, c = colorsa)\n",
    "plt.scatter(np.arange(len(colors)), np.ones(len(colors))*-0.5, c = colorsb)"
   ]
  },
  {
   "cell_type": "markdown",
   "metadata": {},
   "source": [
    "## Load results"
   ]
  },
  {
   "cell_type": "code",
   "execution_count": 3,
   "metadata": {},
   "outputs": [],
   "source": [
    "DIR_0=\"synthetic_experiments/dataset_1658764985_runs:10_seed:42_tag:I0_G:100_k:2.7_p:10_w_min:0.5_w_max:1_v_min:1_v_max:2_envs:4_i_type:noise_i_size:0_i_v_min:5_i_v_max:10_n:10,100,1000_obs:1/\"\n",
    "DIR_3=\"synthetic_experiments/dataset_1657817021_runs:10_seed:42_G:100_k:2.7_p:10_w_min:0.5_w_max:1_v_min:1_v_max:2_envs:4_i_type:noise_i_size:1_i_v_min:5_i_v_max:10_n:10,100,1000_obs:1/\"\n",
    "DIR_6=\"synthetic_experiments/dataset_1658765052_runs:10_seed:42_tag:I6_G:100_k:2.7_p:10_w_min:0.5_w_max:1_v_min:1_v_max:2_envs:4_i_type:noise_i_size:2_i_v_min:5_i_v_max:10_n:10,100,1000_obs:1/\"\n",
    "DIR_9=\"synthetic_experiments/dataset_1658765161_runs:10_seed:42_tag:I9_G:100_k:2.7_p:10_w_min:0.5_w_max:1_v_min:1_v_max:2_envs:4_i_type:noise_i_size:3_i_v_min:5_i_v_max:10_n:10,100,1000_obs:1/\""
   ]
  },
  {
   "cell_type": "code",
   "execution_count": 21,
   "metadata": {},
   "outputs": [],
   "source": [
    "dirs = [DIR_0, DIR_3, DIR_6, DIR_9]"
   ]
  },
  {
   "cell_type": "code",
   "execution_count": 22,
   "metadata": {},
   "outputs": [],
   "source": [
    "test_cases = utils.read_pickle(dirs[0] + 'test_cases.pickle')\n",
    "Ns = sorted(test_cases['Ns'])"
   ]
  },
  {
   "cell_type": "markdown",
   "metadata": {},
   "source": [
    "**GnIES**"
   ]
  },
  {
   "cell_type": "code",
   "execution_count": 65,
   "metadata": {},
   "outputs": [],
   "source": [
    "gnies_lambdas, gnies_x, gnies_y = [], [], []\n",
    "for directory in dirs:\n",
    "    try:\n",
    "        gnies_args, gnies_results = utils.read_pickle(directory + \"compiled_results_gnies.pickle\")\n",
    "        ground_truth, gnies_metrics = utils.read_pickle(directory + \"metrics_gnies.pickle\")\n",
    "        gnies_lambdas.append(gnies_args[2])\n",
    "        gnies_x.append(np.nanmean(gnies_metrics[metrics.type_1_structc], axis=(0,3)))\n",
    "        gnies_y.append(np.nanmean(gnies_metrics[metrics.type_2_structc], axis=(0,3)))\n",
    "    except:\n",
    "        gnies_lambdas.append(None)\n",
    "        gnies_x.append(None)\n",
    "        gnies_y.append(None)"
   ]
  },
  {
   "cell_type": "markdown",
   "metadata": {},
   "source": [
    "**UT-IGSP**"
   ]
  },
  {
   "cell_type": "code",
   "execution_count": 52,
   "metadata": {},
   "outputs": [],
   "source": [
    "utigsp_alphas, utigsp_x, utigsp_y = [], [], []\n",
    "for directory in dirs:\n",
    "    utigsp_args, utigsp_results = utils.read_pickle(directory + \"compiled_results_ut_igsp.pickle\")\n",
    "    ground_truth, utigsp_metrics = utils.read_pickle(directory + \"metrics_ut_igsp.pickle\")\n",
    "    alphas = utigsp_args[2]\n",
    "    utigsp_alphas.append(alphas)\n",
    "    idx = list(range(len(alphas)))\n",
    "    utigsp_x.append(np.nanmean(utigsp_metrics[metrics.type_1_structc], axis=(0,4))[idx,idx])\n",
    "    utigsp_y.append(np.nanmean(utigsp_metrics[metrics.type_2_structc], axis=(0,4))[idx,idx])"
   ]
  },
  {
   "cell_type": "markdown",
   "metadata": {},
   "source": [
    "**UT-IGSP+**"
   ]
  },
  {
   "cell_type": "code",
   "execution_count": 53,
   "metadata": {},
   "outputs": [],
   "source": [
    "utigsp_plus_alphas, utigsp_plus_x, utigsp_plus_y = [], [], []\n",
    "for directory in dirs:\n",
    "    utigsp_plus_args, utigsp_plus_results = utils.read_pickle(directory + \"compiled_results_ut_igsp_plus.pickle\")\n",
    "    ground_truth, utigsp_plus_metrics = utils.read_pickle(directory + \"metrics_ut_igsp_plus.pickle\")\n",
    "    alphas = utigsp_plus_args[2]\n",
    "    utigsp_plus_alphas.append(alphas)\n",
    "    idx = list(range(len(alphas)))\n",
    "    utigsp_plus_x.append(np.nanmean(utigsp_plus_metrics[metrics.type_1_structc], axis=(0,4))[idx,idx])\n",
    "    utigsp_plus_y.append(np.nanmean(utigsp_plus_metrics[metrics.type_2_structc], axis=(0,4))[idx,idx])"
   ]
  },
  {
   "cell_type": "markdown",
   "metadata": {},
   "source": [
    "**GES**"
   ]
  },
  {
   "cell_type": "code",
   "execution_count": 26,
   "metadata": {},
   "outputs": [],
   "source": [
    "ges_lambdas, ges_x, ges_y = [], [], []\n",
    "for directory in dirs:\n",
    "    ges_args, ges_results = utils.read_pickle(directory + \"compiled_results_ges.pickle\")\n",
    "    ground_truth, ges_metrics = utils.read_pickle(directory + \"metrics_ges.pickle\")\n",
    "    ges_lambdas.append(ges_args[2])\n",
    "    ges_x.append(np.nanmean(ges_metrics[metrics.type_1_structc], axis=(0,3)))\n",
    "    ges_y.append(np.nanmean(ges_metrics[metrics.type_2_structc], axis=(0,3)))"
   ]
  },
  {
   "cell_type": "code",
   "execution_count": 30,
   "metadata": {},
   "outputs": [
    {
     "data": {
      "text/plain": [
       "[array([[0.24136678, 0.47968528, 0.18813367]]),\n",
       " array([[0.25984683, 0.55970785, 0.18002882],\n",
       "        [0.60898718, 0.37842787, 0.17860906]]),\n",
       " array([[0.25216216, 0.58506432, 0.18014269],\n",
       "        [0.64714028, 0.38934402, 0.18221861],\n",
       "        [0.66029255, 0.39409406, 0.2313498 ]]),\n",
       " array([[0.26065574, 0.58507831, 0.1994016 ],\n",
       "        [0.66954983, 0.38587767, 0.1971965 ],\n",
       "        [0.67282375, 0.3944777 , 0.23465753],\n",
       "        [0.694225  , 0.40342472, 0.2825936 ]])]"
      ]
     },
     "execution_count": 30,
     "metadata": {},
     "output_type": "execute_result"
    }
   ],
   "source": [
    "utigsp_x"
   ]
  },
  {
   "cell_type": "markdown",
   "metadata": {},
   "source": [
    "## Figures"
   ]
  },
  {
   "cell_type": "code",
   "execution_count": 68,
   "metadata": {},
   "outputs": [
    {
     "data": {
      "image/png": "[encoded data removed]",
      "text/plain": [
       "<Figure size 648x864 with 12 Axes>"
      ]
     },
     "metadata": {
      "needs_background": "light"
     },
     "output_type": "display_data"
    }
   ],
   "source": [
    "text = True\n",
    "textsize = 5\n",
    "lineopts = {'linewidth': 1}\n",
    "ticks = [0, 0.2, 0.4, 0.6, 0.8, 1]\n",
    "marker = {'gnies': '.',\n",
    "          'gnies_rank': '.',\n",
    "          'ges': '*',\n",
    "          'ut_igsp': '^',\n",
    "          'ut_igsp+': '^',\n",
    "          'jci_pc': 's',           \n",
    "}\n",
    "style = {'gnies': '-',\n",
    "         'gnies_rank': ':',\n",
    "         'ges': ':',\n",
    "         'ut_igsp': ':',\n",
    "         'ut_igsp+': '--',\n",
    "         'jci_pc': ':',\n",
    "           \n",
    "}\n",
    "color = {'gnies': colors[0],\n",
    "         'gnies_rank': colorsa[0],\n",
    "         'ges': colors[1],\n",
    "         'ut_igsp': colors[4],\n",
    "         'ut_igsp+': colors[5],\n",
    "         'jci_pc': colors[2],\n",
    "         \n",
    "}\n",
    "\n",
    "print_names = {'gnies': 'GnIES',\n",
    "               #'gnies_rank': 'GnIES-rank',\n",
    "               'ges': 'GES',\n",
    "               'ut_igsp': 'UT-IGSP',\n",
    "               'ut_igsp+': 'UT-IGSP+',\n",
    "               #'jci_pc': 'JCI-PC',         \n",
    "}\n",
    "\n",
    "def plot_metric(ax, values_x, values_y, lambdas, method, points, text):\n",
    "    values_y = 1 - values_y\n",
    "    ax.plot(values_x, values_y, color=color[method], linestyle=style[method], **lineopts)\n",
    "    for j, l in enumerate(lambdas):\n",
    "        #ax.scatter(values_x[j], values_y[j], color=color[method], marker=\".\", linewidth=0)\n",
    "        if j==0 and text[0] is not None:\n",
    "            ax.text(values_x[j], values_y[j], \"$%0.2f$\" % l, fontsize=textsize)\n",
    "        if l==lambdas[-1] and text[1] is not None:\n",
    "            ax.text(values_x[j], values_y[j], \"$%0.2f$\" % l, fontsize=textsize)\n",
    "        if j in points:\n",
    "            ax.scatter(values_x[j], values_y[j], color=color[method], marker=marker[method], linewidth=0)\n",
    "\n",
    "def set_ax(ax, yticks=True, xticks=True):\n",
    "    ax.set_xlim([0,1])\n",
    "    ax.set_ylim([0,1]) \n",
    "    ax.set_xlabel('FDP') if xticks else None\n",
    "    ax.set_ylabel('TDP') if yticks else None\n",
    "    ax.set_yticks(ticks)\n",
    "    ax.set_xticks(ticks)\n",
    "    ax.set_xticklabels(ticks) if xticks else ax.set_xticklabels([])\n",
    "    ax.set_yticklabels(ticks) if yticks else ax.set_yticklabels([])\n",
    "\n",
    "\n",
    "gs = gridspec.GridSpec(4, 3, wspace=0.10, hspace=0.1)\n",
    "plt.figure(figsize=(9,12))\n",
    "ax = plt.gca()\n",
    "\n",
    "for k,I in enumerate([0,3,6,9]):\n",
    "    for i,n in enumerate(Ns):\n",
    "        plt.subplot(gs[k,i])\n",
    "        ax = plt.gca()\n",
    "\n",
    "        # Plot GnIES\n",
    "        try:\n",
    "            plot_metric(ax, gnies_x[k][:,i], gnies_y[k][:,i], gnies_lambdas[k], 'gnies', [0,2,len(gnies_lambdas[k])-1], [\"%d\",\"%0.2f\"])\n",
    "        except:\n",
    "            pass\n",
    "\n",
    "        # Plot UT-IGSP\n",
    "        plot_metric(ax, utigsp_x[k][:,i], utigsp_y[k][:,i], utigsp_alphas[k], 'ut_igsp', [0,len(utigsp_alphas[k])-1], [\"%d\",\"%0.2f\"])    \n",
    "\n",
    "        # Plot UT-IGSP+\n",
    "        plot_metric(ax, utigsp_plus_x[k][:,i], utigsp_plus_y[k][:,i], utigsp_plus_alphas[k], 'ut_igsp+', [0,len(utigsp_plus_alphas[k])-1], [\"%d\",\"%0.2f\"])\n",
    "\n",
    "        # Plot GES\n",
    "        plot_metric(ax, ges_x[k][:,i], ges_y[k][:,i], ges_lambdas[k], 'ges', [0,2,len(ges_lambdas[k])-1], [\"%d\",\"%0.2f\"])\n",
    "\n",
    "        set_ax(ax, yticks=i==0, xticks=k==3)\n",
    "        ax.set_title(\"%d obs./environment\" % n) if k==0 else None\n",
    "        ax.text(1.05,0.5,\"$|\\mathcal{I}|=%d$\" % I, fontsize=12,rotation=90) if i==2 else None\n",
    "\n",
    "# Build legend\n",
    "method_entries = [Line2D([0], [0],\n",
    "                         linewidth=1,\n",
    "                         linestyle=style[method],\n",
    "                         marker=marker[method],\n",
    "                         color=color[method]) for method in print_names.keys()]\n",
    "method_str = list(print_names.values())\n",
    "ax.legend(method_entries, #+ sample_size_entries\n",
    "          method_str, # + sample_size_str\n",
    "          prop={'size':8},\n",
    "          loc='lower right',\n",
    "        ncol=1)\n",
    "\n",
    "\n",
    "plt.savefig('figures/figure_interventions.pdf', bbox_inches='tight')"
   ]
  },
  {
   "cell_type": "code",
   "execution_count": 51,
   "metadata": {
    "scrolled": false
   },
   "outputs": [
    {
     "data": {
      "text/plain": [
       "[array([[0.24136678, 0.47968528, 0.18813367]]),\n",
       " array([[0.25984683, 0.55970785, 0.18002882],\n",
       "        [0.60898718, 0.37842787, 0.17860906]]),\n",
       " array([[0.25216216, 0.58506432, 0.18014269],\n",
       "        [0.64714028, 0.38934402, 0.18221861],\n",
       "        [0.66029255, 0.39409406, 0.2313498 ]]),\n",
       " array([[0.26065574, 0.58507831, 0.1994016 ],\n",
       "        [0.66954983, 0.38587767, 0.1971965 ],\n",
       "        [0.67282375, 0.3944777 , 0.23465753],\n",
       "        [0.694225  , 0.40342472, 0.2825936 ]])]"
      ]
     },
     "execution_count": 51,
     "metadata": {},
     "output_type": "execute_result"
    }
   ],
   "source": [
    "utigsp_x"
   ]
  },
  {
   "cell_type": "code",
   "execution_count": null,
   "metadata": {},
   "outputs": [],
   "source": []
  }
 ],
 "metadata": {
  "kernelspec": {
   "display_name": "Python 3",
   "language": "python",
   "name": "python3"
  },
  "language_info": {
   "codemirror_mode": {
    "name": "ipython",
    "version": 3
   },
   "file_extension": ".py",
   "mimetype": "text/x-python",
   "name": "python",
   "nbconvert_exporter": "python",
   "pygments_lexer": "ipython3",
   "version": "3.7.3"
  }
 },
 "nbformat": 4,
 "nbformat_minor": 2
}
