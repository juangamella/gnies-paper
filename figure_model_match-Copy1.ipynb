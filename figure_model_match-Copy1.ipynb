{
 "cells": [
  {
   "cell_type": "code",
   "execution_count": 1,
   "metadata": {},
   "outputs": [],
   "source": [
    "import numpy as np\n",
    "import sempler\n",
    "import sempler.generators\n",
    "import src.utils as utils\n",
    "import src.metrics as metrics\n",
    "\n",
    "import matplotlib\n",
    "import matplotlib.pyplot as plt\n",
    "from matplotlib.lines import Line2D\n",
    "from matplotlib import gridspec\n",
    "\n",
    "import pickle\n",
    "import os\n",
    "\n",
    "\n",
    "import time"
   ]
  },
  {
   "cell_type": "code",
   "execution_count": 2,
   "metadata": {},
   "outputs": [
    {
     "data": {
      "text/plain": [
       "<matplotlib.collections.PathCollection at 0x7f2aa29e5fd0>"
      ]
     },
     "execution_count": 2,
     "metadata": {},
     "output_type": "execute_result"
    },
    {
     "data": {
      "image/png": "[encoded data removed]",
      "text/plain": [
       "<Figure size 432x288 with 1 Axes>"
      ]
     },
     "metadata": {
      "needs_background": "light"
     },
     "output_type": "display_data"
    }
   ],
   "source": [
    "# Set tex formatting for plots\n",
    "from matplotlib import rc\n",
    "rc('font',**{'family':'serif','sans-serif':['Computer Modern Roman']})\n",
    "rc('text', usetex=True)\n",
    "#plt.rcParams[\"font.family\"] = \"serif\"\n",
    "#plt.rcParams[\"font.serif\"] = [\"Computer Modern Roman\"]\n",
    "\n",
    "# Set legend size\n",
    "from matplotlib.font_manager import FontProperties\n",
    "fontP = FontProperties()\n",
    "fontP.set_size('medium')\n",
    "\n",
    "# Colors\n",
    "def to_rgb(H, b=1, a=1):\n",
    "    RGBa = []\n",
    "    for h in H:\n",
    "        h = h.lstrip(\"#\")\n",
    "        RGBa.append(tuple(int(h[i:i+2], 16) / 256 * b for i in (0, 2, 4)) + (a,))\n",
    "    return np.array(RGBa)\n",
    "\n",
    "cmap = matplotlib.cm.get_cmap('tab20')\n",
    "# Colorblind safe palettes\n",
    "base = ['#d73027', '#f46d43', '#fdae61', '#fee090', '#020202', '#abd9e9', '#74add1', '#4575b4']\n",
    "#base = ['#b2182b', '#d6604d', '#f4a582', '#fddbc7', '#d1e5f0', '#92c5de', '#4393c3', '#2166ac']\n",
    "#base = ['#8c510a', '#bf812d', '#dfc27d', '#f6e8c3', '#c7eae5', '#80cdc1', '#35978f', '#01665e']\n",
    "# Rainbow palette\n",
    "base = [\"#ff4365\", \"#ffdd43\", \"#59ff43\", \"#43ffdd\", \"#7395ff\", \"#4365ff\", \"#e943ff\", \"#601e9e\", \"#6a6a6a\", \"#964b00\"]#np.array([cmap(i) for i in range(2,20)])\n",
    "plt.scatter(np.arange(len(base)), np.ones(len(base)), c = base)\n",
    "#base = [base[i] for i in [0,1,3]]\n",
    "colors = to_rgb(base)\n",
    "colorsa = to_rgb(base, a=0.5)\n",
    "colorsb = to_rgb(base, b=0.7)\n",
    "plt.scatter(np.arange(len(colors)), np.zeros(len(colors)), c = colors)\n",
    "plt.scatter(np.arange(len(colors)), np.ones(len(colors))*0.5, c = colorsa)\n",
    "plt.scatter(np.arange(len(colors)), np.ones(len(colors))*-0.5, c = colorsb)"
   ]
  },
  {
   "cell_type": "markdown",
   "metadata": {},
   "source": [
    "## Load results"
   ]
  },
  {
   "cell_type": "code",
   "execution_count": 71,
   "metadata": {},
   "outputs": [],
   "source": [
    "directory_raw = \"synthetic_experiments/dataset_1657817021_runs:10_seed:42_G:100_k:2.7_p:10_w_min:0.5_w_max:1_v_min:1_v_max:2_envs:4_i_type:noise_i_size:1_i_v_min:5_i_v_max:10_n:10,100,1000_obs:1/\"\n",
    "directory = \"synthetic_experiments/dataset_1657817138_runs:10_seed:42_G:100_k:2.7_p:10_w_min:0.5_w_max:1_v_min:1_v_max:2_envs:4_i_type:do_i_size:1_i_v_min:5_i_v_max:10_n:10,100,1000_obs:1/\""
   ]
  },
  {
   "cell_type": "code",
   "execution_count": 72,
   "metadata": {},
   "outputs": [],
   "source": [
    "test_cases = utils.read_pickle(directory_std + 'test_cases.pickle')\n",
    "test_casesr = utils.read_pickle(directory_raw + 'test_cases.pickle')\n",
    "Ns = sorted(test_cases['Ns'])"
   ]
  },
  {
   "cell_type": "markdown",
   "metadata": {},
   "source": [
    "**Varsortability**"
   ]
  },
  {
   "cell_type": "code",
   "execution_count": 73,
   "metadata": {},
   "outputs": [],
   "source": [
    "Vs = test_cases['varsortability']\n",
    "Vr = test_casesr['varsortability']"
   ]
  },
  {
   "cell_type": "code",
   "execution_count": 74,
   "metadata": {},
   "outputs": [
    {
     "data": {
      "text/plain": [
       "(0.9314782156026052, 0.5302779003022209)"
      ]
     },
     "execution_count": 74,
     "metadata": {},
     "output_type": "execute_result"
    }
   ],
   "source": [
    "Vr.mean(), Vs.mean()"
   ]
  },
  {
   "cell_type": "markdown",
   "metadata": {},
   "source": [
    "**sortnregress**"
   ]
  },
  {
   "cell_type": "code",
   "execution_count": 83,
   "metadata": {},
   "outputs": [],
   "source": [
    "sort_args, sort_results = utils.read_pickle(directory + \"compiled_results_sortnregress.pickle\")\n",
    "ground_truth, sort_metrics = utils.read_pickle(directory + \"metrics_sortnregress.pickle\")\n",
    "_, sort_metricsr = utils.read_pickle(directory_raw + \"metrics_sortnregress.pickle\")"
   ]
  },
  {
   "cell_type": "code",
   "execution_count": 84,
   "metadata": {},
   "outputs": [
    {
     "data": {
      "text/plain": [
       "array([0., 1., 1.])"
      ]
     },
     "execution_count": 84,
     "metadata": {},
     "output_type": "execute_result"
    }
   ],
   "source": [
    "sort_metrics[metrics.success_metric].mean(axis=(0,2))"
   ]
  },
  {
   "cell_type": "markdown",
   "metadata": {},
   "source": [
    "**sortnregress + pool**"
   ]
  },
  {
   "cell_type": "code",
   "execution_count": 85,
   "metadata": {},
   "outputs": [],
   "source": [
    "sortp_args, sortp_results = utils.read_pickle(directory + \"compiled_results_sortnregress_pool.pickle\")\n",
    "ground_truth, sortp_metrics = utils.read_pickle(directory + \"metrics_sortnregress_pool.pickle\")\n",
    "_, sortp_metricsr = utils.read_pickle(directory_raw + \"metrics_sortnregress_pool.pickle\")"
   ]
  },
  {
   "cell_type": "code",
   "execution_count": 86,
   "metadata": {},
   "outputs": [
    {
     "data": {
      "text/plain": [
       "array([1., 1., 1.])"
      ]
     },
     "execution_count": 86,
     "metadata": {},
     "output_type": "execute_result"
    }
   ],
   "source": [
    "sortp_metrics[metrics.success_metric].mean(axis=(0,2))"
   ]
  },
  {
   "cell_type": "markdown",
   "metadata": {},
   "source": [
    "**GnIES**"
   ]
  },
  {
   "cell_type": "code",
   "execution_count": 88,
   "metadata": {},
   "outputs": [
    {
     "data": {
      "text/plain": [
       "[0.01, 0.25, 0.5, 0.75, 1.0]"
      ]
     },
     "execution_count": 88,
     "metadata": {},
     "output_type": "execute_result"
    }
   ],
   "source": [
    "gnies_args, gnies_results = utils.read_pickle(directory + \"compiled_results_gnies_fb.pickle\")\n",
    "ground_truth, gnies_metrics = utils.read_pickle(directory + \"metrics_gnies_fb.pickle\")\n",
    "_, gnies_metricsr = utils.read_pickle(directory_raw + \"metrics_gnies.pickle\")\n",
    "gnies_lambdas = gnies_args[2]\n",
    "gnies_lambdas"
   ]
  },
  {
   "cell_type": "code",
   "execution_count": 89,
   "metadata": {},
   "outputs": [
    {
     "data": {
      "text/plain": [
       "1.0"
      ]
     },
     "execution_count": 89,
     "metadata": {},
     "output_type": "execute_result"
    }
   ],
   "source": [
    "gnies_metrics[metrics.success_metric].mean()"
   ]
  },
  {
   "cell_type": "markdown",
   "metadata": {},
   "source": [
    "**UT-IGSP**"
   ]
  },
  {
   "cell_type": "code",
   "execution_count": 91,
   "metadata": {},
   "outputs": [
    {
     "data": {
      "text/plain": [
       "(array([1.00000e-05, 2.50075e-02, 5.00050e-02, 7.50025e-02, 1.00000e-01]),\n",
       " array([1.00000e-05, 2.50075e-02, 5.00050e-02, 7.50025e-02, 1.00000e-01]))"
      ]
     },
     "execution_count": 91,
     "metadata": {},
     "output_type": "execute_result"
    }
   ],
   "source": [
    "ut_igsp_args, ut_igsp_results = utils.read_pickle(directory + \"compiled_results_ut_igsp_gauss.pickle\")\n",
    "ground_truth, utigsp_metrics = utils.read_pickle(directory + \"metrics_ut_igsp_gauss.pickle\")\n",
    "_, utigsp_metricsr = utils.read_pickle(directory_raw + \"metrics_ut_igsp.pickle\")\n",
    "utigsp_alphas, utigsp_betas = ut_igsp_args[1], ut_igsp_args[2]\n",
    "utigsp_alphas, utigsp_betas"
   ]
  },
  {
   "cell_type": "code",
   "execution_count": 92,
   "metadata": {},
   "outputs": [
    {
     "data": {
      "text/plain": [
       "array([0.90816, 1.     , 1.     ])"
      ]
     },
     "execution_count": 92,
     "metadata": {},
     "output_type": "execute_result"
    }
   ],
   "source": [
    "utigsp_metrics[metrics.success_metric].mean(axis=(0,1,2,4))"
   ]
  },
  {
   "cell_type": "markdown",
   "metadata": {},
   "source": [
    "**UT-IGSP+**"
   ]
  },
  {
   "cell_type": "code",
   "execution_count": 95,
   "metadata": {},
   "outputs": [
    {
     "data": {
      "text/plain": [
       "(array([1.00000e-05, 2.50075e-02, 5.00050e-02, 7.50025e-02, 1.00000e-01]),\n",
       " array([1.00000e-05, 2.50075e-02, 5.00050e-02, 7.50025e-02, 1.00000e-01]))"
      ]
     },
     "execution_count": 95,
     "metadata": {},
     "output_type": "execute_result"
    }
   ],
   "source": [
    "ut_igsp_plus_args, ut_igsp_plus_results = utils.read_pickle(directory + \"compiled_results_ut_igsp_plus_gauss.pickle\")\n",
    "ground_truth, utigsp_plus_metrics = utils.read_pickle(directory + \"metrics_ut_igsp_plus_gauss.pickle\")\n",
    "_, utigsp_plus_metricsr = utils.read_pickle(directory_raw + \"metrics_ut_igsp_plus.pickle\")\n",
    "utigsp_plus_alphas, utigsp_plus_betas = ut_igsp_args[1], ut_igsp_args[2]\n",
    "utigsp_plus_alphas, utigsp_plus_betas"
   ]
  },
  {
   "cell_type": "code",
   "execution_count": 96,
   "metadata": {},
   "outputs": [
    {
     "data": {
      "text/plain": [
       "0.9693866666666666"
      ]
     },
     "execution_count": 96,
     "metadata": {},
     "output_type": "execute_result"
    }
   ],
   "source": [
    "utigsp_plus_metrics[metrics.success_metric].mean()"
   ]
  },
  {
   "cell_type": "markdown",
   "metadata": {},
   "source": [
    "**GES**"
   ]
  },
  {
   "cell_type": "code",
   "execution_count": 97,
   "metadata": {},
   "outputs": [
    {
     "data": {
      "text/plain": [
       "[0.01, 0.25, 0.5, 0.75, 1.0]"
      ]
     },
     "execution_count": 97,
     "metadata": {},
     "output_type": "execute_result"
    }
   ],
   "source": [
    "ges_args, ges_results = utils.read_pickle(directory + \"compiled_results_ges.pickle\")\n",
    "ground_truth, ges_metrics = utils.read_pickle(directory + \"metrics_ges.pickle\")\n",
    "_, ges_metricsr = utils.read_pickle(directory_raw + \"metrics_ges.pickle\")\n",
    "ges_lambdas = ges_args[2]\n",
    "ges_lambdas"
   ]
  },
  {
   "cell_type": "code",
   "execution_count": 98,
   "metadata": {},
   "outputs": [
    {
     "data": {
      "text/plain": [
       "1.0"
      ]
     },
     "execution_count": 98,
     "metadata": {},
     "output_type": "execute_result"
    }
   ],
   "source": [
    "ges_metrics[metrics.success_metric].mean()"
   ]
  },
  {
   "cell_type": "markdown",
   "metadata": {},
   "source": [
    "**GnIES with rank**"
   ]
  },
  {
   "cell_type": "markdown",
   "metadata": {},
   "source": [
    "gnies_rank_args, gnies_rank_results = utils.read_pickle(directory + \"compiled_results_gnies_rank.pickle\")\n",
    "ground_truth, gnies_rank_metrics = utils.read_pickle(directory + \"metrics_gnies_rank.pickle\")\n",
    "gnies_rank_lambdas = gnies_rank_args[2]\n",
    "gnies_rank_lambdas"
   ]
  },
  {
   "cell_type": "markdown",
   "metadata": {},
   "source": [
    "gnies_rank_metrics[metrics.success_metric].mean()"
   ]
  },
  {
   "cell_type": "markdown",
   "metadata": {},
   "source": [
    "## Figures"
   ]
  },
  {
   "cell_type": "markdown",
   "metadata": {},
   "source": [
    "### Figure 1: Class recovery trajectories"
   ]
  },
  {
   "cell_type": "code",
   "execution_count": 99,
   "metadata": {},
   "outputs": [
    {
     "name": "stderr",
     "output_type": "stream",
     "text": [
      "/home/juan/anaconda3/lib/python3.7/site-packages/ipykernel_launcher.py:15: RuntimeWarning: Mean of empty slice\n",
      "  from ipykernel import kernelapp as app\n",
      "/home/juan/anaconda3/lib/python3.7/site-packages/ipykernel_launcher.py:16: RuntimeWarning: Mean of empty slice\n",
      "  app.launch_new_instance()\n"
     ]
    }
   ],
   "source": [
    "gnies_x = np.nanmean(gnies_metrics[metrics.type_1_structc], axis=(0,3))\n",
    "gnies_y = np.nanmean(gnies_metrics[metrics.type_2_structc], axis=(0,3))\n",
    "\n",
    "idx = list(range(len(utigsp_alphas)))\n",
    "utigsp_x = np.nanmean(utigsp_metrics[metrics.type_1_structc], axis=(0,4))[idx,idx]\n",
    "utigsp_y = np.nanmean(utigsp_metrics[metrics.type_2_structc], axis=(0,4))[idx,idx]\n",
    "\n",
    "idx = list(range(len(utigsp_plus_alphas)))\n",
    "utigsp_plus_x = np.nanmean(utigsp_plus_metrics[metrics.type_1_structc], axis=(0,4))[idx,idx]\n",
    "utigsp_plus_y = np.nanmean(utigsp_plus_metrics[metrics.type_2_structc], axis=(0,4))[idx,idx]\n",
    "\n",
    "ges_x = np.nanmean(ges_metrics[metrics.type_1_structc], axis=(0,3))\n",
    "ges_y = np.nanmean(ges_metrics[metrics.type_2_structc], axis=(0,3))\n",
    "\n",
    "sort_x = np.nanmean(sort_metrics[metrics.type_1_structc], axis=(0,2))\n",
    "sort_y = np.nanmean(sort_metrics[metrics.type_2_structc], axis=(0,2))\n",
    "\n",
    "sortp_x = np.nanmean(sortp_metrics[metrics.type_1_structc], axis=(0,2))\n",
    "sortp_y = np.nanmean(sortp_metrics[metrics.type_2_structc], axis=(0,2))"
   ]
  },
  {
   "cell_type": "code",
   "execution_count": 108,
   "metadata": {},
   "outputs": [
    {
     "name": "stderr",
     "output_type": "stream",
     "text": [
      "/home/juan/anaconda3/lib/python3.7/site-packages/ipykernel_launcher.py:15: RuntimeWarning: Mean of empty slice\n",
      "  from ipykernel import kernelapp as app\n",
      "/home/juan/anaconda3/lib/python3.7/site-packages/ipykernel_launcher.py:16: RuntimeWarning: Mean of empty slice\n",
      "  app.launch_new_instance()\n"
     ]
    }
   ],
   "source": [
    "gnies_xr = np.nanmean(gnies_metricsr[metrics.type_1_structc], axis=(0,3))\n",
    "gnies_yr = np.nanmean(gnies_metricsr[metrics.type_2_structc], axis=(0,3))\n",
    "\n",
    "idx = list(range(len(utigsp_alphas)))\n",
    "utigsp_xr = np.nanmean(utigsp_metricsr[metrics.type_1_structc], axis=(0,4))[idx,idx]\n",
    "utigsp_yr = np.nanmean(utigsp_metricsr[metrics.type_2_structc], axis=(0,4))[idx,idx]\n",
    "\n",
    "idx = list(range(len(utigsp_plus_alphas)))\n",
    "utigsp_plus_xr = np.nanmean(utigsp_plus_metricsr[metrics.type_1_structc], axis=(0,4))[idx,idx]\n",
    "utigsp_plus_yr = np.nanmean(utigsp_plus_metricsr[metrics.type_2_structc], axis=(0,4))[idx,idx]\n",
    "\n",
    "ges_xr = np.nanmean(ges_metricsr[metrics.type_1_structc], axis=(0,3))\n",
    "ges_yr = np.nanmean(ges_metricsr[metrics.type_2_structc], axis=(0,3))\n",
    "\n",
    "sort_xr = np.nanmean(sort_metricsr[metrics.type_1_structc], axis=(0,2))\n",
    "sort_yr = np.nanmean(sort_metricsr[metrics.type_2_structc], axis=(0,2))\n",
    "\n",
    "sortp_xr = np.nanmean(sortp_metricsr[metrics.type_1_structc], axis=(0,2))\n",
    "sortp_yr = np.nanmean(sortp_metricsr[metrics.type_2_structc], axis=(0,2))"
   ]
  },
  {
   "cell_type": "code",
   "execution_count": 109,
   "metadata": {},
   "outputs": [
    {
     "data": {
      "text/plain": [
       "array([       nan, 0.74208447, 0.77293411])"
      ]
     },
     "execution_count": 109,
     "metadata": {},
     "output_type": "execute_result"
    }
   ],
   "source": [
    "sort_x"
   ]
  },
  {
   "cell_type": "code",
   "execution_count": 110,
   "metadata": {},
   "outputs": [
    {
     "data": {
      "text/plain": [
       "array([       nan, 0.59330169, 0.57834707])"
      ]
     },
     "execution_count": 110,
     "metadata": {},
     "output_type": "execute_result"
    }
   ],
   "source": [
    "sort_y"
   ]
  },
  {
   "cell_type": "markdown",
   "metadata": {},
   "source": [
    "gnies_rank_x = np.nanmean(gnies_rank_metrics[metrics.type_1_structc], axis=(0,3))\n",
    "gnies_rank_y = np.nanmean(gnies_rank_metrics[metrics.type_2_structc], axis=(0,3))"
   ]
  },
  {
   "cell_type": "code",
   "execution_count": 136,
   "metadata": {},
   "outputs": [
    {
     "data": {
      "image/png": "[encoded data removed]",
      "text/plain": [
       "<Figure size 648x216 with 3 Axes>"
      ]
     },
     "metadata": {
      "needs_background": "light"
     },
     "output_type": "display_data"
    }
   ],
   "source": [
    "text = True\n",
    "textsize = 5\n",
    "lineopts = {'linewidth': 1}\n",
    "ticks = [0, 0.2, 0.4, 0.6, 0.8, 1]\n",
    "marker = {'gnies': '.',\n",
    "          'gnies_rank': '.',\n",
    "          'ges': '*',\n",
    "          'ut_igsp': '^',\n",
    "          'ut_igsp+': '^',\n",
    "          'sort': 's',\n",
    "          'sortp': 'X',           \n",
    "}\n",
    "style = {'gnies': '-',\n",
    "         'gnies_rank': ':',\n",
    "         'ges': ':',\n",
    "         'ut_igsp': ':',\n",
    "         'ut_igsp+': '--',\n",
    "         'sort': ':',\n",
    "         'sortp': '--',\n",
    "           \n",
    "}\n",
    "color = {'gnies': colors[0],\n",
    "         'gnies_rank': colorsa[0],\n",
    "         'ges': colors[1],\n",
    "         'ut_igsp': colors[4],\n",
    "         'ut_igsp+': colors[5],\n",
    "         'sort': colors[2],\n",
    "         'sortp': colors[2],\n",
    "         \n",
    "}\n",
    "\n",
    "print_names = {'gnies': 'GnIES',\n",
    "               #'gnies_rank': 'GnIES-rank',\n",
    "               'ges': 'GES',\n",
    "               'ut_igsp': 'UT-IGSP',\n",
    "               'ut_igsp+': 'UT-IGSP+',\n",
    "               #'sort': 'sortnrgress',         \n",
    "               'sortp': 'sortnrgress',\n",
    "}\n",
    "\n",
    "def plot_metric(ax, values_x, values_y, lambdas, method, points, text, gray=False):\n",
    "    c = 'gray' if gray else color[method]\n",
    "    values_y = 1 - values_y\n",
    "    ax.plot(values_x, values_y, color=c, linestyle=style[method], **lineopts)\n",
    "    for j, l in enumerate(lambdas):\n",
    "        #ax.scatter(values_x[j], values_y[j], color=color[method], marker=\".\", linewidth=0)\n",
    "        if j==0 and text[0] is not None:\n",
    "            ax.text(values_x[j], values_y[j], \"$%0.2f$\" % l, fontsize=textsize)\n",
    "        if l==lambdas[-1] and text[1] is not None:\n",
    "            ax.text(values_x[j], values_y[j], \"$%0.2f$\" % l, fontsize=textsize)\n",
    "        if j in points:\n",
    "            ax.scatter(values_x[j], values_y[j], color=c, marker=marker[method], linewidth=0)\n",
    "\n",
    "def set_ax(ax, yticks=True):\n",
    "    ax.set_xlim([0,1])\n",
    "    ax.set_ylim([0,1])\n",
    "    ax.set_xlabel('FDP')    \n",
    "    ax.set_ylabel('TDP') if yticks else None\n",
    "    ax.set_yticks(ticks)\n",
    "    ax.set_xticks(ticks)\n",
    "    ax.set_xticklabels(ticks)\n",
    "    ax.set_yticklabels(ticks) if yticks else ax.set_yticklabels([])\n",
    "\n",
    "\n",
    "gs = gridspec.GridSpec(1, 3, wspace=0.10, hspace=0.2)\n",
    "plt.figure(figsize=(9,3))\n",
    "ax = plt.gca()\n",
    "\n",
    "for i,n in enumerate(Ns):\n",
    "    plt.subplot(gs[i])\n",
    "    ax = plt.gca()\n",
    "    if i==0:\n",
    "        ax0 = ax\n",
    "    \n",
    "    # Plot GnIES\n",
    "    plot_metric(ax, gnies_x[:,i], gnies_y[:,i], gnies_lambdas, 'gnies', [0,2,len(gnies_lambdas)-1], [\"%d\",\"%0.2f\"])\n",
    "        \n",
    "    # Plot UT-IGSP\n",
    "    plot_metric(ax, utigsp_x[:,i], utigsp_y[:,i], utigsp_alphas, 'ut_igsp', [0,len(utigsp_alphas)-1], [\"%d\",\"%0.2f\"])    \n",
    "\n",
    "    # Plot UT-IGSP+\n",
    "    plot_metric(ax, utigsp_plus_x[:,i], utigsp_plus_y[:,i], utigsp_plus_alphas, 'ut_igsp+', [0,len(utigsp_plus_alphas)-1], [\"%d\",\"%0.2f\"])\n",
    "\n",
    "    # Plot GES\n",
    "    plot_metric(ax, ges_x[:,i], ges_y[:,i], ges_lambdas, 'ges', [0,2,len(ges_lambdas)-1], [\"%d\",\"%0.2f\"])\n",
    "    \n",
    "    # Plot sortnregress \n",
    "    #ax.scatter(sort_x[i], 1-sort_y[i], color=color['sort'], marker=marker['sort'], linewidth=0)\n",
    "    \n",
    "    # Plot sortnregress + pool\n",
    "    ax.scatter(sortp_x[i], 1-sortp_y[i], color=color['sortp'], marker=marker['sortp'], linewidth=0)\n",
    "    \n",
    "    set_ax(ax, yticks=i==0)\n",
    "    ax.set_title(\"%d obs./environment\" % n)\n",
    "\n",
    "\n",
    "# Build legend\n",
    "method_entries = [Line2D([0], [0],\n",
    "                         linewidth=0 if method == 'sortp' else 1,\n",
    "                         linestyle=style[method],\n",
    "                         marker=marker[method],\n",
    "                         color=color[method]) for method in print_names.keys()]\n",
    "method_str = list(print_names.values())\n",
    "ax0.legend(method_entries, #+ sample_size_entries\n",
    "          method_str, # + sample_size_str\n",
    "          prop={'size':8},\n",
    "          loc='upper left',\n",
    "        ncol=1)\n",
    "\n",
    "\n",
    "plt.savefig('figures/figure_match.pdf', bbox_inches='tight')"
   ]
  },
  {
   "cell_type": "code",
   "execution_count": 135,
   "metadata": {},
   "outputs": [
    {
     "data": {
      "image/png": "[encoded data removed]",
      "text/plain": [
       "<Figure size 648x216 with 3 Axes>"
      ]
     },
     "metadata": {
      "needs_background": "light"
     },
     "output_type": "display_data"
    }
   ],
   "source": [
    "text = True\n",
    "textsize = 5\n",
    "lineopts = {'linewidth': 1}\n",
    "ticks = [0, 0.2, 0.4, 0.6, 0.8, 1]\n",
    "marker = {'gnies': '.',\n",
    "          'gnies_rank': '.',\n",
    "          'ges': '*',\n",
    "          'ut_igsp': '^',\n",
    "          'ut_igsp+': '^',\n",
    "          'sort': 's',\n",
    "          'sortp': 'X',\n",
    "          'raw': None\n",
    "}\n",
    "style = {'gnies': '-',\n",
    "         'gnies_rank': ':',\n",
    "         'ges': ':',\n",
    "         'ut_igsp': ':',\n",
    "         'ut_igsp+': '--',\n",
    "         'sort': ':',\n",
    "         'sortp': '--',\n",
    "         'raw': '-'\n",
    "           \n",
    "}\n",
    "color = {'gnies': colors[0],\n",
    "         'gnies_rank': colorsa[0],\n",
    "         'ges': colors[1],\n",
    "         'ut_igsp': colors[4],\n",
    "         'ut_igsp+': colors[5],\n",
    "         'sort': colors[2],\n",
    "         'sortp': colors[2],\n",
    "         'raw': '#aaaaaa'\n",
    "         \n",
    "}\n",
    "\n",
    "print_names = {'gnies': 'GnIES',\n",
    "               #'gnies_rank': 'GnIES-rank',\n",
    "               'ges': 'GES',\n",
    "               'ut_igsp': 'UT-IGSP',\n",
    "               'ut_igsp+': 'UT-IGSP+',\n",
    "               #'sort': 'sortnrgress',         \n",
    "               'sortp': 'sortnrgress',\n",
    "               'raw': \"Raw data\"\n",
    "}\n",
    "\n",
    "def plot_metric(ax, values_x, values_y, lambdas, method, points, text, gray=False):\n",
    "    c = '#aaaaaa' if gray else color[method]\n",
    "    values_y = 1 - values_y\n",
    "    ax.plot(values_x, values_y, color=c, linestyle=style[method], **lineopts)\n",
    "    for j, l in enumerate(lambdas):\n",
    "        #ax.scatter(values_x[j], values_y[j], color=color[method], marker=\".\", linewidth=0)\n",
    "        if j==0 and text[0] is not None:\n",
    "            ax.text(values_x[j], values_y[j], \"$%0.2f$\" % l, fontsize=textsize)\n",
    "        if l==lambdas[-1] and text[1] is not None:\n",
    "            ax.text(values_x[j], values_y[j], \"$%0.2f$\" % l, fontsize=textsize)\n",
    "        if j in points:\n",
    "            ax.scatter(values_x[j], values_y[j], color=c, marker=marker[method], linewidth=0)\n",
    "\n",
    "def set_ax(ax, yticks=True):\n",
    "    ax.set_xlim([0,1])\n",
    "    ax.set_ylim([0,1])\n",
    "    ax.set_xlabel('FDP')    \n",
    "    ax.set_ylabel('TDP') if yticks else None\n",
    "    ax.set_yticks(ticks)\n",
    "    ax.set_xticks(ticks)\n",
    "    ax.set_xticklabels(ticks)\n",
    "    ax.set_yticklabels(ticks) if yticks else ax.set_yticklabels([])\n",
    "\n",
    "\n",
    "gs = gridspec.GridSpec(1, 3, wspace=0.10, hspace=0.2)\n",
    "plt.figure(figsize=(9,3))\n",
    "ax = plt.gca()\n",
    "\n",
    "for i,n in enumerate(Ns):\n",
    "    plt.subplot(gs[i])\n",
    "    ax = plt.gca()\n",
    "    if i==0:\n",
    "        ax0 = ax\n",
    "    \n",
    "    # Plot GnIES\n",
    "    plot_metric(ax, gnies_xr[:,i], gnies_yr[:,i], gnies_lambdas, 'gnies', [0,2,len(gnies_lambdas)-1], [None, None], gray=True)\n",
    "    plot_metric(ax, gnies_x[:,i], gnies_y[:,i], gnies_lambdas, 'gnies', [0,2,len(gnies_lambdas)-1], [\"%d\",\"%0.2f\"])\n",
    "    \n",
    "        \n",
    "    # Plot UT-IGSP\n",
    "    plot_metric(ax, utigsp_xr[:,i], utigsp_yr[:,i], utigsp_alphas, 'ut_igsp', [0,len(utigsp_alphas)-1], [None, None], gray=True)\n",
    "    plot_metric(ax, utigsp_x[:,i], utigsp_y[:,i], utigsp_alphas, 'ut_igsp', [0,len(utigsp_alphas)-1], [\"%d\",\"%0.2f\"])   \n",
    "\n",
    "    # Plot UT-IGSP+\n",
    "    plot_metric(ax, utigsp_plus_xr[:,i], utigsp_plus_yr[:,i], utigsp_plus_alphas, 'ut_igsp+', [0,len(utigsp_plus_alphas)-1], [None, None], gray=True)\n",
    "    plot_metric(ax, utigsp_plus_x[:,i], utigsp_plus_y[:,i], utigsp_plus_alphas, 'ut_igsp+', [0,len(utigsp_plus_alphas)-1], [\"%d\",\"%0.2f\"])    \n",
    "\n",
    "    # Plot GES\n",
    "    plot_metric(ax, ges_xr[:,i], ges_yr[:,i], ges_lambdas, 'ges', [0,2,len(ges_lambdas)-1], [None, None], gray=True)\n",
    "    plot_metric(ax, ges_x[:,i], ges_y[:,i], ges_lambdas, 'ges', [0,2,len(ges_lambdas)-1], [\"%d\",\"%0.2f\"])\n",
    "    \n",
    "    # Plot sortnregress \n",
    "    #ax.scatter(sort_x[i], 1-sort_y[i], color=color['sort'], marker=marker['sort'], linewidth=0)\n",
    "    \n",
    "    # Plot sortnregress + pool\n",
    "    ax.scatter(sortp_x[i], 1-sortp_y[i], color=color['sortp'], marker=marker['sortp'], linewidth=0)\n",
    "    ax.scatter(sortp_xr[i], 1-sortp_yr[i], color='#aaaaaa', marker=marker['sortp'], linewidth=0)\n",
    "    \n",
    "    set_ax(ax, yticks=i==0)\n",
    "    ax.set_title(\"%d obs./environment\" % n)\n",
    "\n",
    "\n",
    "# Build legend\n",
    "method_entries = [Line2D([0], [0],\n",
    "                         linewidth=1,\n",
    "                         linestyle=6style[method],\n",
    "                         marker=marker[method],\n",
    "                         color=color[method]) for method in print_names.keys()]\n",
    "method_str = list(print_names.values())\n",
    "ax.legend(method_entries, #+ sample_size_entries\n",
    "          method_str, # + sample_size_str\n",
    "          prop={'size':8},\n",
    "          loc='lower left',\n",
    "        ncol=1)\n",
    "\n",
    "\n",
    "plt.savefig('figures/figure_match_both.pdf', bbox_inches='tight')"
   ]
  },
  {
   "cell_type": "code",
   "execution_count": 117,
   "metadata": {
    "scrolled": false
   },
   "outputs": [
    {
     "data": {
      "text/plain": [
       "array([0.72434572, 0.73576082, 0.74085422])"
      ]
     },
     "execution_count": 117,
     "metadata": {},
     "output_type": "execute_result"
    }
   ],
   "source": [
    "sortp_x"
   ]
  },
  {
   "cell_type": "markdown",
   "metadata": {},
   "source": [
    "### Recovery of I-CPDAG"
   ]
  },
  {
   "cell_type": "code",
   "execution_count": 118,
   "metadata": {},
   "outputs": [
    {
     "ename": "NameError",
     "evalue": "name 'computed_metrics' is not defined",
     "output_type": "error",
     "traceback": [
      "\u001b[0;31m---------------------------------------------------------------------------\u001b[0m",
      "\u001b[0;31mNameError\u001b[0m                                 Traceback (most recent call last)",
      "\u001b[0;32m<ipython-input-118-d7eeefbd75a5>\u001b[0m in \u001b[0;36m<module>\u001b[0;34m\u001b[0m\n\u001b[0;32m----> 1\u001b[0;31m \u001b[0mgnies_y\u001b[0m \u001b[0;34m=\u001b[0m \u001b[0mnp\u001b[0m\u001b[0;34m.\u001b[0m\u001b[0mnanmean\u001b[0m\u001b[0;34m(\u001b[0m\u001b[0mcomputed_metrics\u001b[0m\u001b[0;34m[\u001b[0m\u001b[0;34m'gnies'\u001b[0m\u001b[0;34m]\u001b[0m\u001b[0;34m[\u001b[0m\u001b[0mmetrics\u001b[0m\u001b[0;34m.\u001b[0m\u001b[0mrecovered_icpdag\u001b[0m\u001b[0;34m]\u001b[0m\u001b[0;34m,\u001b[0m \u001b[0maxis\u001b[0m\u001b[0;34m=\u001b[0m\u001b[0;34m(\u001b[0m\u001b[0;36m0\u001b[0m\u001b[0;34m,\u001b[0m\u001b[0;36m3\u001b[0m\u001b[0;34m)\u001b[0m\u001b[0;34m)\u001b[0m\u001b[0;34m\u001b[0m\u001b[0;34m\u001b[0m\u001b[0m\n\u001b[0m\u001b[1;32m      2\u001b[0m \u001b[0mutigsp_y\u001b[0m \u001b[0;34m=\u001b[0m \u001b[0mnp\u001b[0m\u001b[0;34m.\u001b[0m\u001b[0mnanmean\u001b[0m\u001b[0;34m(\u001b[0m\u001b[0mcomputed_metrics\u001b[0m\u001b[0;34m[\u001b[0m\u001b[0;34m'ut_igsp'\u001b[0m\u001b[0;34m]\u001b[0m\u001b[0;34m[\u001b[0m\u001b[0mmetrics\u001b[0m\u001b[0;34m.\u001b[0m\u001b[0mrecovered_icpdag\u001b[0m\u001b[0;34m]\u001b[0m\u001b[0;34m,\u001b[0m \u001b[0maxis\u001b[0m\u001b[0;34m=\u001b[0m\u001b[0;34m(\u001b[0m\u001b[0;36m0\u001b[0m\u001b[0;34m,\u001b[0m\u001b[0;36m4\u001b[0m\u001b[0;34m)\u001b[0m\u001b[0;34m)\u001b[0m\u001b[0;34m\u001b[0m\u001b[0;34m\u001b[0m\u001b[0m\n",
      "\u001b[0;31mNameError\u001b[0m: name 'computed_metrics' is not defined"
     ]
    }
   ],
   "source": [
    "gnies_y = np.nanmean(computed_metrics['gnies'][metrics.recovered_icpdag], axis=(0,3))\n",
    "utigsp_y = np.nanmean(computed_metrics['ut_igsp'][metrics.recovered_icpdag], axis=(0,4))"
   ]
  },
  {
   "cell_type": "code",
   "execution_count": 119,
   "metadata": {},
   "outputs": [
    {
     "ename": "IndexError",
     "evalue": "too many indices for array",
     "output_type": "error",
     "traceback": [
      "\u001b[0;31m---------------------------------------------------------------------------\u001b[0m",
      "\u001b[0;31mIndexError\u001b[0m                                Traceback (most recent call last)",
      "\u001b[0;32m<ipython-input-119-9d9b13bdd275>\u001b[0m in \u001b[0;36m<module>\u001b[0;34m\u001b[0m\n\u001b[1;32m     12\u001b[0m     \u001b[0;32mfor\u001b[0m \u001b[0mk\u001b[0m\u001b[0;34m,\u001b[0m\u001b[0mb\u001b[0m \u001b[0;32min\u001b[0m \u001b[0menumerate\u001b[0m\u001b[0;34m(\u001b[0m\u001b[0mutigsp_betas\u001b[0m\u001b[0;34m)\u001b[0m\u001b[0;34m:\u001b[0m\u001b[0;34m\u001b[0m\u001b[0;34m\u001b[0m\u001b[0m\n\u001b[1;32m     13\u001b[0m         \u001b[0;32mif\u001b[0m \u001b[0mj\u001b[0m\u001b[0;34m==\u001b[0m\u001b[0mk\u001b[0m\u001b[0;34m:\u001b[0m\u001b[0;34m\u001b[0m\u001b[0;34m\u001b[0m\u001b[0m\n\u001b[0;32m---> 14\u001b[0;31m             \u001b[0max\u001b[0m\u001b[0;34m.\u001b[0m\u001b[0mplot\u001b[0m\u001b[0;34m(\u001b[0m\u001b[0mx_axis\u001b[0m\u001b[0;34m,\u001b[0m \u001b[0mutigsp_y\u001b[0m\u001b[0;34m[\u001b[0m\u001b[0mj\u001b[0m\u001b[0;34m,\u001b[0m\u001b[0mk\u001b[0m\u001b[0;34m,\u001b[0m\u001b[0;34m:\u001b[0m\u001b[0;34m]\u001b[0m\u001b[0;34m)\u001b[0m\u001b[0;34m\u001b[0m\u001b[0;34m\u001b[0m\u001b[0m\n\u001b[0m\u001b[1;32m     15\u001b[0m \u001b[0;34m\u001b[0m\u001b[0m\n\u001b[1;32m     16\u001b[0m \u001b[0max\u001b[0m\u001b[0;34m.\u001b[0m\u001b[0mset_ylim\u001b[0m\u001b[0;34m(\u001b[0m\u001b[0;34m[\u001b[0m\u001b[0;36m0\u001b[0m\u001b[0;34m,\u001b[0m\u001b[0;36m1\u001b[0m\u001b[0;34m]\u001b[0m\u001b[0;34m)\u001b[0m\u001b[0;34m\u001b[0m\u001b[0;34m\u001b[0m\u001b[0m\n",
      "\u001b[0;31mIndexError\u001b[0m: too many indices for array"
     ]
    },
    {
     "data": {
      "image/png": "[encoded data removed]",
      "text/plain": [
       "<Figure size 288x288 with 1 Axes>"
      ]
     },
     "metadata": {
      "needs_background": "light"
     },
     "output_type": "display_data"
    }
   ],
   "source": [
    "plt.figure(figsize=(4,4))\n",
    "ax = plt.gca()\n",
    "\n",
    "x_axis = range(len(Ns))\n",
    "# Plot GnIES\n",
    "for i,l in enumerate(gnies_lambdas):    \n",
    "    ax.plot(x_axis, gnies_y[i,:], label=\"l=%0.2f\" % l, marker='o', linestyle=':')\n",
    "\n",
    "        \n",
    "# Plot UT-IGSP\n",
    "for j,a in enumerate(utigsp_alphas):\n",
    "    for k,b in enumerate(utigsp_betas):\n",
    "        if j==k:\n",
    "            ax.plot(x_axis, utigsp_y[j,k,:])            \n",
    "\n",
    "ax.set_ylim([0,1])\n",
    "ax.set_xticks(x_axis)\n",
    "ax.set_xticklabels(Ns)\n",
    "plt.legend()"
   ]
  },
  {
   "cell_type": "code",
   "execution_count": null,
   "metadata": {
    "scrolled": false
   },
   "outputs": [],
   "source": [
    "# Above: ranking, below: greedy approach "
   ]
  },
  {
   "cell_type": "markdown",
   "metadata": {},
   "source": [
    "### Skeleton recovery"
   ]
  },
  {
   "cell_type": "code",
   "execution_count": null,
   "metadata": {},
   "outputs": [],
   "source": [
    "gnies_x = np.nanmean(computed_metrics['gnies'][metrics.type_1_skeleton], axis=(0,3))\n",
    "gnies_y = 1 - np.nanmean(computed_metrics['gnies'][metrics.type_2_skeleton], axis=(0,3))\n",
    "\n",
    "utigsp_x = np.nanmean(computed_metrics['ut_igsp'][metrics.type_1_skeleton], axis=(0,4))\n",
    "utigsp_y = 1 - np.nanmean(computed_metrics['ut_igsp'][metrics.type_2_skeleton], axis=(0,4))"
   ]
  },
  {
   "cell_type": "code",
   "execution_count": null,
   "metadata": {},
   "outputs": [],
   "source": [
    "styles = [':', '--', '-']\n",
    "text = True\n",
    "\n",
    "plt.figure(figsize=(10,10))\n",
    "ax = plt.gca()\n",
    "\n",
    "# Plot GnIES\n",
    "for i,n in enumerate(Ns):\n",
    "    ax.plot(gnies_x[:,i], gnies_y[:,i], label=\"n=%d\" % n, color=colors[0], linestyle=styles[i], marker='.')\n",
    "    if text:\n",
    "        for j,l in enumerate(gnies_lambdas):\n",
    "            ax.text(gnies_x[j,i], gnies_y[j,i], \"%.2f\" % l, fontsize=8)\n",
    "        \n",
    "# Plot UT-IGSP\n",
    "for i,n in enumerate(Ns):    \n",
    "    #ax.scatter(utigsp_x[:,:,i], utigsp_y[:,:,i], label=\"n=%d\" % n, color=colors[i], marker='^')\n",
    "    idx = list(range(len(utigsp_alphas)))\n",
    "    ax.plot(utigsp_x[idx,idx,i], utigsp_y[idx,idx,i], label=\"n=%d\" % n, color=colors[1], marker='.', linestyle=styles[i])\n",
    "    if text:\n",
    "        for j,a in enumerate(utigsp_alphas):\n",
    "            for k,b in enumerate(utigsp_betas):\n",
    "                if k == j:\n",
    "                    ax.text(utigsp_x[j,k,i], utigsp_y[j,k,i], \"%.2f, %.2f\" % (a,b), fontsize=8)\n",
    "ax.axis('equal')\n",
    "ax.set_xlim([0,1])\n",
    "ax.set_ylim([0,1])\n",
    "plt.legend()"
   ]
  },
  {
   "cell_type": "code",
   "execution_count": null,
   "metadata": {
    "scrolled": false
   },
   "outputs": [],
   "source": [
    "# Above: ranking, below: greedy approach "
   ]
  },
  {
   "cell_type": "markdown",
   "metadata": {},
   "source": [
    "### Targets recovery"
   ]
  },
  {
   "cell_type": "code",
   "execution_count": null,
   "metadata": {},
   "outputs": [],
   "source": [
    "gnies_x = np.nanmean(computed_metrics['gnies'][metrics.type_1_I], axis=(0,3))\n",
    "gnies_y = 1 - np.nanmean(computed_metrics['gnies'][metrics.type_2_I], axis=(0,3))\n",
    "\n",
    "utigsp_x = np.nanmean(computed_metrics['ut_igsp'][metrics.type_1_I], axis=(0,4))\n",
    "utigsp_y = 1 - np.nanmean(computed_metrics['ut_igsp'][metrics.type_2_I], axis=(0,4))"
   ]
  },
  {
   "cell_type": "code",
   "execution_count": null,
   "metadata": {},
   "outputs": [],
   "source": [
    "styles = [':', '--', '-']\n",
    "text = True\n",
    "\n",
    "plt.figure(figsize=(10,10))\n",
    "ax = plt.gca()\n",
    "\n",
    "# Plot GnIES\n",
    "for i,n in enumerate(Ns):\n",
    "    ax.plot(gnies_x[:,i], gnies_y[:,i], label=\"n=%d\" % n, color=colors[0], linestyle=styles[i], marker='.')\n",
    "    if text:\n",
    "        for j,l in enumerate(gnies_lambdas):\n",
    "            ax.text(gnies_x[j,i], gnies_y[j,i], \"%.2f\" % l, fontsize=8)\n",
    "        \n",
    "# Plot UT-IGSP\n",
    "for i,n in enumerate(Ns):    \n",
    "    #ax.scatter(utigsp_x[:,:,i], utigsp_y[:,:,i], label=\"n=%d\" % n, color=colors[i], marker='^')\n",
    "    idx = list(range(len(utigsp_alphas)))\n",
    "    ax.plot(utigsp_x[idx,idx,i], utigsp_y[idx,idx,i], label=\"n=%d\" % n, color=colors[1], marker='.', linestyle=styles[i])\n",
    "    if text:\n",
    "        for j,a in enumerate(utigsp_alphas):\n",
    "            for k,b in enumerate(utigsp_betas):\n",
    "                if k == j:\n",
    "                    ax.text(utigsp_x[j,k,i], utigsp_y[j,k,i], \"%.2f, %.2f\" % (a,b), fontsize=8)\n",
    "ax.axis('equal')\n",
    "ax.set_xlim([0,1])\n",
    "ax.set_ylim([0,1])\n",
    "plt.legend()"
   ]
  },
  {
   "cell_type": "code",
   "execution_count": null,
   "metadata": {
    "scrolled": false
   },
   "outputs": [],
   "source": [
    "# Above: ranking, below: greedy approach "
   ]
  },
  {
   "cell_type": "code",
   "execution_count": null,
   "metadata": {},
   "outputs": [],
   "source": [
    "import gnies\n",
    "import src.metrics\n",
    "A = sempler.generators.dag_full(p=5)\n",
    "cpdag = gnies.utils.dag_to_cpdag(A)\n",
    "all_dags = gnies.utils.all_dags(cpdag)\n",
    "len(all_dags)"
   ]
  },
  {
   "cell_type": "code",
   "execution_count": null,
   "metadata": {},
   "outputs": [],
   "source": [
    "for i in range(100):\n",
    "    A = sempler.generators.dag_avg_deg(p=5, k=2)\n",
    "    cpdag = gnies.utils.dag_to_cpdag(A)\n",
    "    all_dags_A = gnies.utils.all_dags(cpdag)    \n",
    "    t1 = src.metrics.type_1_structc(all_dags, all_dags_A)\n",
    "    t2 = src.metrics.type_2_structc(all_dags, all_dags_A)    \n",
    "    print(\"t1 : %0.3f - t2 : %0.3f\" % (t1, t2))\n",
    "    #print(\"  len(all_dags_A) =\", len(all_dags_A))"
   ]
  },
  {
   "cell_type": "code",
   "execution_count": null,
   "metadata": {},
   "outputs": [],
   "source": []
  }
 ],
 "metadata": {
  "kernelspec": {
   "display_name": "Python 3",
   "language": "python",
   "name": "python3"
  },
  "language_info": {
   "codemirror_mode": {
    "name": "ipython",
    "version": 3
   },
   "file_extension": ".py",
   "mimetype": "text/x-python",
   "name": "python",
   "nbconvert_exporter": "python",
   "pygments_lexer": "ipython3",
   "version": "3.7.4"
  }
 },
 "nbformat": 4,
 "nbformat_minor": 2
}
