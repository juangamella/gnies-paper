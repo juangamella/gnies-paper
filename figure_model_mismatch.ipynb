{
 "cells": [
  {
   "cell_type": "code",
   "execution_count": 3,
   "metadata": {},
   "outputs": [],
   "source": [
    "import numpy as np\n",
    "import sempler\n",
    "import sempler.generators\n",
    "import src.utils as utils\n",
    "import src.metrics as metrics\n",
    "\n",
    "import matplotlib\n",
    "import matplotlib.pyplot as plt\n",
    "from matplotlib.lines import Line2D\n",
    "from matplotlib import gridspec\n",
    "\n",
    "import pickle\n",
    "import os\n",
    "\n",
    "\n",
    "import time"
   ]
  },
  {
   "cell_type": "code",
   "execution_count": 4,
   "metadata": {},
   "outputs": [
    {
     "data": {
      "text/plain": [
       "<matplotlib.collections.PathCollection at 0x7f7d76311240>"
      ]
     },
     "execution_count": 4,
     "metadata": {},
     "output_type": "execute_result"
    },
    {
     "data": {
      "image/png": "[encoded data removed]",
      "text/plain": [
       "<Figure size 432x288 with 1 Axes>"
      ]
     },
     "metadata": {
      "needs_background": "light"
     },
     "output_type": "display_data"
    }
   ],
   "source": [
    "# Set tex formatting for plots\n",
    "from matplotlib import rc\n",
    "rc('font',**{'family':'serif','sans-serif':['Computer Modern Roman']})\n",
    "rc('text', usetex=True)\n",
    "#plt.rcParams[\"font.family\"] = \"serif\"\n",
    "#plt.rcParams[\"font.serif\"] = [\"Computer Modern Roman\"]\n",
    "\n",
    "# Set legend size\n",
    "from matplotlib.font_manager import FontProperties\n",
    "fontP = FontProperties()\n",
    "fontP.set_size('medium')\n",
    "\n",
    "# Colors\n",
    "def to_rgb(H, b=1, a=1):\n",
    "    RGBa = []\n",
    "    for h in H:\n",
    "        h = h.lstrip(\"#\")\n",
    "        RGBa.append(tuple(int(h[i:i+2], 16) / 256 * b for i in (0, 2, 4)) + (a,))\n",
    "    return np.array(RGBa)\n",
    "\n",
    "cmap = matplotlib.cm.get_cmap('tab20')\n",
    "# Colorblind safe palettes\n",
    "base = ['#d73027', '#f46d43', '#fdae61', '#fee090', '#020202', '#abd9e9', '#74add1', '#4575b4']\n",
    "#base = ['#b2182b', '#d6604d', '#f4a582', '#fddbc7', '#d1e5f0', '#92c5de', '#4393c3', '#2166ac']\n",
    "#base = ['#8c510a', '#bf812d', '#dfc27d', '#f6e8c3', '#c7eae5', '#80cdc1', '#35978f', '#01665e']\n",
    "# Rainbow palette\n",
    "base = [\"#ff4365\", \"#ffdd43\", \"#59ff43\", \"#43ffdd\", \"#7395ff\", \"#4365ff\", \"#e943ff\", \"#601e9e\", \"#6a6a6a\", \"#964b00\"]#np.array([cmap(i) for i in range(2,20)])\n",
    "plt.scatter(np.arange(len(base)), np.ones(len(base)), c = base)\n",
    "#base = [base[i] for i in [0,1,3]]\n",
    "colors = to_rgb(base)\n",
    "colorsa = to_rgb(base, a=0.5)\n",
    "colorsb = to_rgb(base, b=0.7)\n",
    "plt.scatter(np.arange(len(colors)), np.zeros(len(colors)), c = colors)\n",
    "plt.scatter(np.arange(len(colors)), np.ones(len(colors))*0.5, c = colorsa)\n",
    "plt.scatter(np.arange(len(colors)), np.ones(len(colors))*-0.5, c = colorsb)"
   ]
  },
  {
   "cell_type": "markdown",
   "metadata": {},
   "source": [
    "## Load results"
   ]
  },
  {
   "cell_type": "code",
   "execution_count": 5,
   "metadata": {},
   "outputs": [],
   "source": [
    "directory = \"synthetic_experiments/dataset_1661334633_runs:10_seed:42_tag:I3sd_G:100_k:2.7_p:10_w_min:0.5_w_max:1_v_min:1_v_max:2_envs:4_i_type:do_i_size:1_i_v_min:5_i_v_max:10_n:10,100,1000_obs:1_standardize:1/\"\n",
    "directory_raw = \"synthetic_experiments/dataset_1661334661_runs:10_seed:42_tag:I3d_G:100_k:2.7_p:10_w_min:0.5_w_max:1_v_min:1_v_max:2_envs:4_i_type:do_i_size:1_i_v_min:5_i_v_max:10_n:10,100,1000_obs:1_standardize:0\""
   ]
  },
  {
   "cell_type": "code",
   "execution_count": 6,
   "metadata": {},
   "outputs": [],
   "source": [
    "test_cases = utils.read_pickle(directory + 'test_cases.pickle')\n",
    "test_casesr = utils.read_pickle(directory_raw + 'test_cases.pickle')\n",
    "Ns = sorted(test_cases['Ns'])"
   ]
  },
  {
   "cell_type": "markdown",
   "metadata": {},
   "source": [
    "**Varsortability**"
   ]
  },
  {
   "cell_type": "code",
   "execution_count": 7,
   "metadata": {},
   "outputs": [
    {
     "data": {
      "text/plain": [
       "0.531611637967308"
      ]
     },
     "execution_count": 7,
     "metadata": {},
     "output_type": "execute_result"
    }
   ],
   "source": [
    "Vs = test_cases['varsortability']\n",
    "Vs.mean()"
   ]
  },
  {
   "cell_type": "code",
   "execution_count": 8,
   "metadata": {},
   "outputs": [],
   "source": [
    "Vr = test_casesr['varsortability']"
   ]
  },
  {
   "cell_type": "code",
   "execution_count": 9,
   "metadata": {},
   "outputs": [
    {
     "data": {
      "text/plain": [
       "(0.531611637967308,)"
      ]
     },
     "execution_count": 9,
     "metadata": {},
     "output_type": "execute_result"
    }
   ],
   "source": [
    "Vr.mean(), "
   ]
  },
  {
   "cell_type": "markdown",
   "metadata": {},
   "source": [
    "**sortnregress + pool**"
   ]
  },
  {
   "cell_type": "code",
   "execution_count": 13,
   "metadata": {},
   "outputs": [],
   "source": [
    "sortp_args, sortp_results = utils.read_pickle(directory + \"compiled_results_sortnregress_pool.pickle\")\n",
    "ground_truth, sortp_metrics = utils.read_pickle(directory + \"metrics_sortnregress_pool.pickle\")\n",
    "_, sortp_metricsr = utils.read_pickle(directory_raw + \"metrics_sortnregress_pool.pickle\")"
   ]
  },
  {
   "cell_type": "code",
   "execution_count": 14,
   "metadata": {},
   "outputs": [
    {
     "data": {
      "text/plain": [
       "array([1., 1., 1.])"
      ]
     },
     "execution_count": 14,
     "metadata": {},
     "output_type": "execute_result"
    }
   ],
   "source": [
    "sortp_metrics[metrics.success_metric].mean(axis=(0,2))"
   ]
  },
  {
   "cell_type": "markdown",
   "metadata": {},
   "source": [
    "**GnIES**"
   ]
  },
  {
   "cell_type": "code",
   "execution_count": 15,
   "metadata": {},
   "outputs": [
    {
     "data": {
      "text/plain": [
       "[0.01, 0.25, 0.5, 0.75, 1.0, 2.0]"
      ]
     },
     "execution_count": 15,
     "metadata": {},
     "output_type": "execute_result"
    }
   ],
   "source": [
    "gnies_args, gnies_results = utils.read_pickle(directory + \"compiled_results_gnies_fb.pickle\")\n",
    "ground_truth, gnies_metrics = utils.read_pickle(directory + \"metrics_gnies_fb.pickle\")\n",
    "_, gnies_metricsr = utils.read_pickle(directory_raw + \"metrics_gnies_fb.pickle\")\n",
    "gnies_lambdas = gnies_args[2]\n",
    "gnies_lambdas"
   ]
  },
  {
   "cell_type": "code",
   "execution_count": 16,
   "metadata": {},
   "outputs": [
    {
     "data": {
      "text/plain": [
       "1.0"
      ]
     },
     "execution_count": 16,
     "metadata": {},
     "output_type": "execute_result"
    }
   ],
   "source": [
    "gnies_metrics[metrics.success_metric].mean()"
   ]
  },
  {
   "cell_type": "markdown",
   "metadata": {},
   "source": [
    "**UT-IGSP**"
   ]
  },
  {
   "cell_type": "code",
   "execution_count": 18,
   "metadata": {},
   "outputs": [
    {
     "data": {
      "text/plain": [
       "(array([1.00000e-05, 2.50075e-02, 5.00050e-02, 7.50025e-02, 1.00000e-01]),\n",
       " array([1.00000e-05, 2.50075e-02, 5.00050e-02, 7.50025e-02, 1.00000e-01]))"
      ]
     },
     "execution_count": 18,
     "metadata": {},
     "output_type": "execute_result"
    }
   ],
   "source": [
    "ut_igsp_args, ut_igsp_results = utils.read_pickle(directory + \"compiled_results_ut_igsp_gauss.pickle\")\n",
    "ground_truth, utigsp_metrics = utils.read_pickle(directory + \"metrics_ut_igsp_gauss.pickle\")\n",
    "_, utigsp_metricsr = utils.read_pickle(directory_raw + \"metrics_ut_igsp_gauss.pickle\")\n",
    "utigsp_alphas, utigsp_betas = ut_igsp_args[1], ut_igsp_args[2]\n",
    "utigsp_alphas, utigsp_betas"
   ]
  },
  {
   "cell_type": "code",
   "execution_count": 19,
   "metadata": {},
   "outputs": [
    {
     "data": {
      "text/plain": [
       "array([0.92276, 1.     , 1.     ])"
      ]
     },
     "execution_count": 19,
     "metadata": {},
     "output_type": "execute_result"
    }
   ],
   "source": [
    "utigsp_metrics[metrics.success_metric].mean(axis=(0,1,2,4))"
   ]
  },
  {
   "cell_type": "markdown",
   "metadata": {},
   "source": [
    "**UT-IGSP+**"
   ]
  },
  {
   "cell_type": "code",
   "execution_count": 20,
   "metadata": {},
   "outputs": [
    {
     "data": {
      "text/plain": [
       "(array([1.00000e-05, 2.50075e-02, 5.00050e-02, 7.50025e-02, 1.00000e-01]),\n",
       " array([1.00000e-05, 2.50075e-02, 5.00050e-02, 7.50025e-02, 1.00000e-01]))"
      ]
     },
     "execution_count": 20,
     "metadata": {},
     "output_type": "execute_result"
    }
   ],
   "source": [
    "ut_igsp_plus_args, ut_igsp_plus_results = utils.read_pickle(directory + \"compiled_results_ut_igsp_plus_gauss.pickle\")\n",
    "ground_truth, utigsp_plus_metrics = utils.read_pickle(directory + \"metrics_ut_igsp_plus_gauss.pickle\")\n",
    "_, utigsp_plus_metricsr = utils.read_pickle(directory_raw + \"metrics_ut_igsp_plus_gauss.pickle\")\n",
    "utigsp_plus_alphas, utigsp_plus_betas = ut_igsp_args[1], ut_igsp_args[2]\n",
    "utigsp_plus_alphas, utigsp_plus_betas"
   ]
  },
  {
   "cell_type": "code",
   "execution_count": 21,
   "metadata": {},
   "outputs": [
    {
     "data": {
      "text/plain": [
       "0.9742533333333333"
      ]
     },
     "execution_count": 21,
     "metadata": {},
     "output_type": "execute_result"
    }
   ],
   "source": [
    "utigsp_plus_metrics[metrics.success_metric].mean()"
   ]
  },
  {
   "cell_type": "markdown",
   "metadata": {},
   "source": [
    "**GES**"
   ]
  },
  {
   "cell_type": "code",
   "execution_count": 22,
   "metadata": {},
   "outputs": [
    {
     "data": {
      "text/plain": [
       "[0.01, 0.25, 0.5, 0.75, 1.0, 2.0]"
      ]
     },
     "execution_count": 22,
     "metadata": {},
     "output_type": "execute_result"
    }
   ],
   "source": [
    "ges_args, ges_results = utils.read_pickle(directory + \"compiled_results_ges.pickle\")\n",
    "ground_truth, ges_metrics = utils.read_pickle(directory + \"metrics_ges.pickle\")\n",
    "_, ges_metricsr = utils.read_pickle(directory_raw + \"metrics_ges.pickle\")\n",
    "ges_lambdas = ges_args[2]\n",
    "ges_lambdas"
   ]
  },
  {
   "cell_type": "code",
   "execution_count": 23,
   "metadata": {},
   "outputs": [
    {
     "data": {
      "text/plain": [
       "1.0"
      ]
     },
     "execution_count": 23,
     "metadata": {},
     "output_type": "execute_result"
    }
   ],
   "source": [
    "ges_metrics[metrics.success_metric].mean()"
   ]
  },
  {
   "cell_type": "markdown",
   "metadata": {},
   "source": [
    "**GES**"
   ]
  },
  {
   "cell_type": "code",
   "execution_count": 25,
   "metadata": {},
   "outputs": [
    {
     "data": {
      "text/plain": [
       "[0.01, 0.25, 0.5, 0.75, 1.0, 2.0]"
      ]
     },
     "execution_count": 25,
     "metadata": {},
     "output_type": "execute_result"
    }
   ],
   "source": [
    "gies_args, gies_results = utils.read_pickle(directory + \"compiled_results_gies.pickle\")\n",
    "ground_truth, gies_metrics = utils.read_pickle(directory + \"metrics_gies.pickle\")\n",
    "_, gies_metricsr = utils.read_pickle(directory_raw + \"metrics_gies.pickle\")\n",
    "gies_lambdas = gies_args[2]\n",
    "gies_lambdas"
   ]
  },
  {
   "cell_type": "code",
   "execution_count": 26,
   "metadata": {},
   "outputs": [
    {
     "data": {
      "text/plain": [
       "1.0"
      ]
     },
     "execution_count": 26,
     "metadata": {},
     "output_type": "execute_result"
    }
   ],
   "source": [
    "gies_metrics[metrics.success_metric].mean()"
   ]
  },
  {
   "cell_type": "markdown",
   "metadata": {},
   "source": [
    "**GnIES with rank**"
   ]
  },
  {
   "cell_type": "markdown",
   "metadata": {},
   "source": [
    "gnies_rank_args, gnies_rank_results = utils.read_pickle(directory + \"compiled_results_gnies_rank.pickle\")\n",
    "ground_truth, gnies_rank_metrics = utils.read_pickle(directory + \"metrics_gnies_rank.pickle\")\n",
    "gnies_rank_lambdas = gnies_rank_args[2]\n",
    "gnies_rank_lambdas"
   ]
  },
  {
   "cell_type": "markdown",
   "metadata": {},
   "source": [
    "gnies_rank_metrics[metrics.success_metric].mean()"
   ]
  },
  {
   "cell_type": "code",
   "execution_count": 28,
   "metadata": {},
   "outputs": [],
   "source": [
    "gnies_x = np.nanmean(gnies_metrics[metrics.type_1_structc], axis=(0,3))\n",
    "gnies_y = np.nanmean(gnies_metrics[metrics.type_2_structc], axis=(0,3))\n",
    "\n",
    "idx = list(range(len(utigsp_alphas)))\n",
    "utigsp_x = np.nanmean(utigsp_metrics[metrics.type_1_structc], axis=(0,4))[idx,idx]\n",
    "utigsp_y = np.nanmean(utigsp_metrics[metrics.type_2_structc], axis=(0,4))[idx,idx]\n",
    "\n",
    "idx = list(range(len(utigsp_plus_alphas)))\n",
    "utigsp_plus_x = np.nanmean(utigsp_plus_metrics[metrics.type_1_structc], axis=(0,4))[idx,idx]\n",
    "utigsp_plus_y = np.nanmean(utigsp_plus_metrics[metrics.type_2_structc], axis=(0,4))[idx,idx]\n",
    "\n",
    "ges_x = np.nanmean(ges_metrics[metrics.type_1_structc], axis=(0,3))\n",
    "ges_y = np.nanmean(ges_metrics[metrics.type_2_structc], axis=(0,3))\n",
    "\n",
    "gies_x = np.nanmean(gies_metrics[metrics.type_1_structc], axis=(0,3))\n",
    "gies_y = np.nanmean(gies_metrics[metrics.type_2_structc], axis=(0,3))\n",
    "\n",
    "sort_x = np.nanmean(sort_metrics[metrics.type_1_structc], axis=(0,2))\n",
    "sort_y = np.nanmean(sort_metrics[metrics.type_2_structc], axis=(0,2))\n",
    "\n",
    "sortp_x = np.nanmean(sortp_metrics[metrics.type_1_structc], axis=(0,2))\n",
    "sortp_y = np.nanmean(sortp_metrics[metrics.type_2_structc], axis=(0,2))"
   ]
  },
  {
   "cell_type": "code",
   "execution_count": 29,
   "metadata": {},
   "outputs": [],
   "source": [
    "gnies_xr = np.nanmean(gnies_metricsr[metrics.type_1_structc], axis=(0,3))\n",
    "gnies_yr = np.nanmean(gnies_metricsr[metrics.type_2_structc], axis=(0,3))\n",
    "\n",
    "idx = list(range(len(utigsp_alphas)))\n",
    "utigsp_xr = np.nanmean(utigsp_metricsr[metrics.type_1_structc], axis=(0,4))[idx,idx]\n",
    "utigsp_yr = np.nanmean(utigsp_metricsr[metrics.type_2_structc], axis=(0,4))[idx,idx]\n",
    "\n",
    "idx = list(range(len(utigsp_plus_alphas)))\n",
    "utigsp_plus_xr = np.nanmean(utigsp_plus_metricsr[metrics.type_1_structc], axis=(0,4))[idx,idx]\n",
    "utigsp_plus_yr = np.nanmean(utigsp_plus_metricsr[metrics.type_2_structc], axis=(0,4))[idx,idx]\n",
    "\n",
    "ges_xr = np.nanmean(ges_metricsr[metrics.type_1_structc], axis=(0,3))\n",
    "ges_yr = np.nanmean(ges_metricsr[metrics.type_2_structc], axis=(0,3))\n",
    "\n",
    "gies_xr = np.nanmean(gies_metricsr[metrics.type_1_structc], axis=(0,3))\n",
    "gies_yr = np.nanmean(gies_metricsr[metrics.type_2_structc], axis=(0,3))\n",
    "\n",
    "sort_xr = np.nanmean(sort_metricsr[metrics.type_1_structc], axis=(0,2))\n",
    "sort_yr = np.nanmean(sort_metricsr[metrics.type_2_structc], axis=(0,2))\n",
    "\n",
    "sortp_xr = np.nanmean(sortp_metricsr[metrics.type_1_structc], axis=(0,2))\n",
    "sortp_yr = np.nanmean(sortp_metricsr[metrics.type_2_structc], axis=(0,2))"
   ]
  },
  {
   "cell_type": "markdown",
   "metadata": {},
   "source": [
    "## Figure 2"
   ]
  },
  {
   "cell_type": "code",
   "execution_count": 44,
   "metadata": {},
   "outputs": [
    {
     "data": {
      "image/png": "[encoded data removed]",
      "text/plain": [
       "<Figure size 648x216 with 3 Axes>"
      ]
     },
     "metadata": {
      "needs_background": "light"
     },
     "output_type": "display_data"
    }
   ],
   "source": [
    "text = True\n",
    "textsize = 5\n",
    "lineopts = {'linewidth': 1}\n",
    "ticks = [0, 0.2, 0.4, 0.6, 0.8, 1]\n",
    "marker = {'gnies': '.',\n",
    "          'gnies_rank': '.',\n",
    "          'gies': 'v',\n",
    "          'ges': '*',\n",
    "          'ut_igsp': '^',\n",
    "          'ut_igsp+': '^',          \n",
    "          'sortp': 'X',           \n",
    "}\n",
    "style = {'gnies': '-',\n",
    "         'gnies_rank': ':',\n",
    "         'ges': ':',\n",
    "         'gies': '--',\n",
    "         'ut_igsp': ':',\n",
    "         'ut_igsp+': '--',\n",
    "         'sort': ':',\n",
    "         'sortp': '--',\n",
    "           \n",
    "}\n",
    "color = {'gnies': colors[0],\n",
    "         'gnies_rank': colorsa[0],\n",
    "         'ges': colors[1],\n",
    "         'gies': colors[3],\n",
    "         'ut_igsp': colors[4],\n",
    "         'ut_igsp+': colors[5],\n",
    "         'sort': colors[2],\n",
    "         'sortp': colors[2],\n",
    "         \n",
    "}\n",
    "\n",
    "print_names = {'gnies': 'GnIES',\n",
    "               #'gnies_rank': 'GnIES-rank',\n",
    "               'ges': 'GES',\n",
    "               'gies': 'GIES-Oracle',\n",
    "               'ut_igsp': 'UT-IGSP',\n",
    "               'ut_igsp+': 'UT-IGSP+',\n",
    "               #'sort': 'sortnrgress',         \n",
    "               'sortp': 'sortnrgress',\n",
    "}\n",
    "\n",
    "def plot_metric(ax, values_x, values_y, lambdas, method, points, text, gray=False):\n",
    "    c = '#aaaaaa' if gray else color[method]\n",
    "    values_y = 1 - values_y\n",
    "    ax.plot(values_x, values_y, color=c, linestyle=style[method], **lineopts)\n",
    "    for j, l in enumerate(lambdas):\n",
    "        #ax.scatter(values_x[j], values_y[j], color=color[method], marker=\".\", linewidth=0)\n",
    "        if j==0 and text[0] is not None:\n",
    "            if l < 0.001:\n",
    "                l = np.log10(l)\n",
    "                fmt = \"$10^{%d}$\"\n",
    "            else:\n",
    "                fmt = \"$\"+text[0]+\"$\"\n",
    "            ax.text(values_x[j], values_y[j], fmt % l, fontsize=textsize, ha=\"left\")\n",
    "        if l==lambdas[-1] and text[1] is not None:\n",
    "            ax.text(values_x[j], values_y[j], (\"$\"+text[1]+\"$\") % l, fontsize=textsize, ha=\"left\")\n",
    "        if j in points:\n",
    "            ax.scatter(values_x[j], values_y[j], color=c, marker=marker[method], linewidth=0)\n",
    "\n",
    "def set_ax(ax, yticks=True):\n",
    "    ax.set_xlim([0,1])\n",
    "    ax.set_ylim([0,1])\n",
    "    ax.set_xlabel('FDP')    \n",
    "    ax.set_ylabel('TDP') if yticks else None\n",
    "    ax.set_yticks(ticks)\n",
    "    ax.set_xticks(ticks)\n",
    "    ax.set_xticklabels(ticks)\n",
    "    ax.set_yticklabels(ticks) if yticks else ax.set_yticklabels([])\n",
    "\n",
    "\n",
    "gs = gridspec.GridSpec(1, 3, wspace=0.10, hspace=0.2)\n",
    "plt.figure(figsize=(9,3))\n",
    "ax = plt.gca()\n",
    "\n",
    "for i,n in enumerate(Ns):\n",
    "    plt.subplot(gs[i])\n",
    "    ax = plt.gca()\n",
    "    if i==0:\n",
    "        ax0 = ax\n",
    "    \n",
    "    # Plot GnIES\n",
    "    plot_metric(ax, gnies_x[:,i], gnies_y[:,i], gnies_lambdas, 'gnies', [0,2,len(gnies_lambdas)-1], [\"%0.1f\",\"%0.1f\"])\n",
    "        \n",
    "    # Plot UT-IGSP\n",
    "    plot_metric(ax, utigsp_x[:,i], utigsp_y[:,i], utigsp_alphas, 'ut_igsp', [0,len(utigsp_alphas)-1], [\"%0.1f\",\"%0.1f\"])\n",
    "\n",
    "    # Plot UT-IGSP+\n",
    "    plot_metric(ax, utigsp_plus_x[:,i], utigsp_plus_y[:,i], utigsp_plus_alphas, 'ut_igsp+', [0,len(utigsp_plus_alphas)-1], [\"%0.1f\" if n!=1000 else None,\"%0.1f\" if n==10 else None])\n",
    "\n",
    "    # Plot GES\n",
    "    plot_metric(ax, ges_x[:,i], ges_y[:,i], ges_lambdas, 'ges', [0,2,len(ges_lambdas)-1], [\"%0.1f\",\"%0.1f\" if n!= 10 else None])\n",
    "    \n",
    "    # Plot GIES\n",
    "    plot_metric(ax, gies_x[:,i], gies_y[:,i], gies_lambdas, 'gies', [0,2,len(ges_lambdas)-1], [\"%0.1f\",\"%0.1f\"])# if n!= 1000 else None])\n",
    "    \n",
    "    # Plot sortnregress \n",
    "    #ax.scatter(sort_x[i], 1-sort_y[i], color=color['sort'], marker=marker['sort'], linewidth=0)\n",
    "    \n",
    "    # Plot sortnregress + pool\n",
    "    ax.scatter(sortp_x[i], 1-sortp_y[i], color=color['sortp'], marker=marker['sortp'], linewidth=0)\n",
    "    \n",
    "    set_ax(ax, yticks=i==0)\n",
    "    ax.set_title(\"%d obs./environment\" % n)\n",
    "\n",
    "\n",
    "# Build legend\n",
    "method_entries = [Line2D([0], [0],\n",
    "                         linewidth=0 if method == 'sortp' else 1,\n",
    "                         linestyle=style[method],\n",
    "                         marker=marker[method],\n",
    "                         color=color[method]) for method in print_names.keys()]\n",
    "method_str = list(print_names.values())\n",
    "ax.legend(method_entries, #+ sample_size_entries\n",
    "          method_str, # + sample_size_str\n",
    "          prop={'size':8},\n",
    "          loc='lower left',\n",
    "        ncol=1)\n",
    "\n",
    "\n",
    "plt.savefig('figures/figure_mismatch.pdf', bbox_inches='tight')"
   ]
  },
  {
   "cell_type": "markdown",
   "metadata": {},
   "source": [
    "## Figure 6"
   ]
  },
  {
   "cell_type": "code",
   "execution_count": 35,
   "metadata": {},
   "outputs": [
    {
     "data": {
      "image/png": "[encoded data removed]",
      "text/plain": [
       "<Figure size 648x216 with 3 Axes>"
      ]
     },
     "metadata": {
      "needs_background": "light"
     },
     "output_type": "display_data"
    }
   ],
   "source": [
    "text = True\n",
    "textsize = 5\n",
    "lineopts = {'linewidth': 1}\n",
    "ticks = [0, 0.2, 0.4, 0.6, 0.8, 1]\n",
    "marker = {'gnies': '.',\n",
    "          'gnies_rank': '.',\n",
    "          'gies': 'v',\n",
    "          'ges': '*',\n",
    "          'ut_igsp': '^',\n",
    "          'ut_igsp+': '^',          \n",
    "          'sortp': 'X',           \n",
    "}\n",
    "style = {'gnies': '-',\n",
    "         'gnies_rank': ':',\n",
    "         'ges': ':',\n",
    "         'gies': '--',\n",
    "         'ut_igsp': ':',\n",
    "         'ut_igsp+': '--',\n",
    "         'sort': ':',\n",
    "         'sortp': '--',\n",
    "           \n",
    "}\n",
    "color = {'gnies': colors[0],\n",
    "         'gnies_rank': colorsa[0],\n",
    "         'ges': colors[1],\n",
    "         'gies': colors[3],\n",
    "         'ut_igsp': colors[4],\n",
    "         'ut_igsp+': colors[5],\n",
    "         'sort': colors[2],\n",
    "         'sortp': colors[2],\n",
    "         \n",
    "}\n",
    "\n",
    "print_names = {'gnies': 'GnIES',\n",
    "               #'gnies_rank': 'GnIES-rank',\n",
    "               'ges': 'GES',\n",
    "               'gies': 'GIES-Oracle',\n",
    "               'ut_igsp': 'UT-IGSP',\n",
    "               'ut_igsp+': 'UT-IGSP+',\n",
    "               #'sort': 'sortnrgress',         \n",
    "               'sortp': 'sortnrgress',\n",
    "}\n",
    "\n",
    "def plot_metric(ax, values_x, values_y, lambdas, method, points, text, gray=False):\n",
    "    c = '#aaaaaa' if gray else color[method]\n",
    "    values_y = 1 - values_y\n",
    "    ax.plot(values_x, values_y, color=c, linestyle=style[method], **lineopts)\n",
    "    for j, l in enumerate(lambdas):\n",
    "        #ax.scatter(values_x[j], values_y[j], color=color[method], marker=\".\", linewidth=0)\n",
    "        if j==0 and text[0] is not None:\n",
    "            ax.text(values_x[j], values_y[j], \"$%0.2f$\" % l, fontsize=textsize)\n",
    "        if l==lambdas[-1] and text[1] is not None:\n",
    "            ax.text(values_x[j], values_y[j], \"$%0.2f$\" % l, fontsize=textsize)\n",
    "        if j in points:\n",
    "            ax.scatter(values_x[j], values_y[j], color=c, marker=marker[method], linewidth=0)\n",
    "\n",
    "def set_ax(ax, yticks=True):\n",
    "    ax.set_xlim([0,1])\n",
    "    ax.set_ylim([0,1])\n",
    "    ax.set_xlabel('FDP')    \n",
    "    ax.set_ylabel('TDP') if yticks else None\n",
    "    ax.set_yticks(ticks)\n",
    "    ax.set_xticks(ticks)\n",
    "    ax.set_xticklabels(ticks)\n",
    "    ax.set_yticklabels(ticks) if yticks else ax.set_yticklabels([])\n",
    "\n",
    "\n",
    "gs = gridspec.GridSpec(1, 3, wspace=0.10, hspace=0.2)\n",
    "plt.figure(figsize=(9,3))\n",
    "ax = plt.gca()\n",
    "\n",
    "for i,n in enumerate(Ns):\n",
    "    plt.subplot(gs[i])\n",
    "    ax = plt.gca()\n",
    "    if i==0:\n",
    "        ax0 = ax\n",
    "    \n",
    "    # Plot GnIES\n",
    "    plot_metric(ax, gnies_xr[:,i], gnies_yr[:,i], gnies_lambdas, 'gnies', [0,2,len(gnies_lambdas)-1], [None, None], gray=True)\n",
    "    plot_metric(ax, gnies_x[:,i], gnies_y[:,i], gnies_lambdas, 'gnies', [0,2,len(gnies_lambdas)-1], [\"%d\",\"%0.2f\"])\n",
    "    \n",
    "        \n",
    "    # Plot UT-IGSP\n",
    "    plot_metric(ax, utigsp_xr[:,i], utigsp_yr[:,i], utigsp_alphas, 'ut_igsp', [0,len(utigsp_alphas)-1], [None, None], gray=True)\n",
    "    plot_metric(ax, utigsp_x[:,i], utigsp_y[:,i], utigsp_alphas, 'ut_igsp', [0,len(utigsp_alphas)-1], [\"%d\",\"%0.2f\"])   \n",
    "\n",
    "    # Plot UT-IGSP+\n",
    "    plot_metric(ax, utigsp_plus_xr[:,i], utigsp_plus_yr[:,i], utigsp_plus_alphas, 'ut_igsp+', [0,len(utigsp_plus_alphas)-1], [None, None], gray=True)\n",
    "    plot_metric(ax, utigsp_plus_x[:,i], utigsp_plus_y[:,i], utigsp_plus_alphas, 'ut_igsp+', [0,len(utigsp_plus_alphas)-1], [\"%d\",\"%0.2f\"])    \n",
    "\n",
    "    # Plot GES\n",
    "    plot_metric(ax, ges_xr[:,i], ges_yr[:,i], ges_lambdas, 'ges', [0,2,len(ges_lambdas)-1], [None, None], gray=True)\n",
    "    plot_metric(ax, ges_x[:,i], ges_y[:,i], ges_lambdas, 'ges', [0,2,len(ges_lambdas)-1], [\"%d\",\"%0.2f\"])\n",
    "    \n",
    "    # Plot GIES\n",
    "    plot_metric(ax, gies_xr[:,i], gies_yr[:,i], gies_lambdas, 'gies', [0,2,len(ges_lambdas)-1], [None, None], gray=True)\n",
    "    plot_metric(ax, gies_x[:,i], gies_y[:,i], gies_lambdas, 'gies', [0,2,len(ges_lambdas)-1], [\"%d\",\"%0.2f\"])\n",
    "    \n",
    "    # Plot sortnregress \n",
    "    #ax.scatter(sort_x[i], 1-sort_y[i], color=color['sort'], marker=marker['sort'], linewidth=0)\n",
    "    \n",
    "    # Plot sortnregress + pool\n",
    "    ax.scatter(sortp_x[i], 1-sortp_y[i], color=color['sortp'], marker=marker['sortp'], linewidth=0)\n",
    "    ax.scatter(sortp_xr[i], 1-sortp_yr[i], color='#aaaaaa', marker=marker['sortp'], linewidth=0)\n",
    "    \n",
    "    set_ax(ax, yticks=i==0)\n",
    "    ax.set_title(\"%d obs./environment\" % n)\n",
    "\n",
    "\n",
    "# Build legend\n",
    "method_entries = [Line2D([0], [0],\n",
    "                         linewidth=1,\n",
    "                         linestyle=style[method],\n",
    "                         marker=marker[method],\n",
    "                         color=color[method]) for method in print_names.keys()]\n",
    "method_str = list(print_names.values())\n",
    "ax.legend(method_entries, #+ sample_size_entries\n",
    "          method_str, # + sample_size_str\n",
    "          prop={'size':8},\n",
    "          loc='lower left',\n",
    "        ncol=1)\n",
    "\n",
    "\n",
    "plt.savefig('figures/figure_mismatch_both.pdf', bbox_inches='tight')"
   ]
  },
  {
   "cell_type": "code",
   "execution_count": null,
   "metadata": {},
   "outputs": [],
   "source": []
  }
 ],
 "metadata": {
  "kernelspec": {
   "display_name": "Python 3",
   "language": "python",
   "name": "python3"
  },
  "language_info": {
   "codemirror_mode": {
    "name": "ipython",
    "version": 3
   },
   "file_extension": ".py",
   "mimetype": "text/x-python",
   "name": "python",
   "nbconvert_exporter": "python",
   "pygments_lexer": "ipython3",
   "version": "3.7.3"
  }
 },
 "nbformat": 4,
 "nbformat_minor": 2
}
